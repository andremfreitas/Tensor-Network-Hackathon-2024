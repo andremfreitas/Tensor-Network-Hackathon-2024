{
 "cells": [
  {
   "cell_type": "markdown",
   "metadata": {},
   "source": [
    "## Classification of MNIST dataset with tensor networks"
   ]
  },
  {
   "cell_type": "code",
   "execution_count": 1,
   "metadata": {},
   "outputs": [
    {
     "name": "stderr",
     "output_type": "stream",
     "text": [
      "2024-05-22 22:40:41.544106: I tensorflow/core/platform/cpu_feature_guard.cc:210] This TensorFlow binary is optimized to use available CPU instructions in performance-critical operations.\n",
      "To enable the following instructions: AVX2 FMA, in other operations, rebuild TensorFlow with the appropriate compiler flags.\n"
     ]
    }
   ],
   "source": [
    "# import packages here\n",
    "# --------------------------------------\n",
    "import matplotlib.pyplot as plt\n",
    "\n",
    "import qtealeaves as qtl\n",
    "from qtealeaves.convergence_parameters.conv_params import TNConvergenceParameters\n",
    "from qtealeaves.emulator.mps_simulator import MPS\n",
    "from qtealeaves.emulator import StateVector\n",
    "\n",
    "from tensorflow.keras.datasets import mnist\n",
    "import numpy as np\n"
   ]
  },
  {
   "cell_type": "markdown",
   "metadata": {},
   "source": [
    "### Load MNIST dataset"
   ]
  },
  {
   "cell_type": "code",
   "execution_count": 2,
   "metadata": {},
   "outputs": [
    {
     "name": "stdout",
     "output_type": "stream",
     "text": [
      "(60000, 28, 28)\n",
      "(10000, 28, 28)\n"
     ]
    }
   ],
   "source": [
    "# Load dataset here\n",
    "# --------------------------------------\n",
    "(x_train, y_train), (x_test, y_test) = mnist.load_data()\n",
    "print(x_train.shape)\n",
    "print(x_test.shape)\n"
   ]
  },
  {
   "cell_type": "code",
   "execution_count": 3,
   "metadata": {},
   "outputs": [],
   "source": [
    "# Selecting only images with the numbers 3 and 8\n",
    "train_filter = np.where((y_train == 3 ) | (y_train == 8))\n",
    "test_filter = np.where((y_test == 3) | (y_test == 8))\n",
    "\n",
    "x_train, y_train = x_train[train_filter], y_train[train_filter]\n",
    "x_test, y_test = x_test[test_filter], y_test[test_filter]\n",
    "\n",
    "train_idxs_3 = np.where(y_train == 3)\n",
    "train_idxs_8 = np.where(y_train == 8)\n",
    "test_idxs_3 = np.where(y_test == 3)\n",
    "test_idxs_8 = np.where(y_test == 8)\n",
    "\n",
    "y_train[train_idxs_3] = 0\n",
    "y_train[train_idxs_8] = 1\n",
    "y_test[test_idxs_3] = 0\n",
    "y_test[test_idxs_8] = 1\n",
    "\n",
    "# Reduce amount of images\n",
    "nr_images = 500\n",
    "\n",
    "x_train, y_train, x_test, y_test = x_train[:nr_images, :, :], y_train[:nr_images], x_test[:nr_images, :, :], y_test[:nr_images]\n",
    "\n",
    "x_train = x_train / 255\n",
    "x_test = x_test / 255"
   ]
  },
  {
   "cell_type": "code",
   "execution_count": 4,
   "metadata": {},
   "outputs": [
    {
     "name": "stdout",
     "output_type": "stream",
     "text": [
      "0\n"
     ]
    },
    {
     "data": {
      "image/png": "[encoded data removed]",
      "text/plain": [
       "<Figure size 640x480 with 1 Axes>"
      ]
     },
     "metadata": {},
     "output_type": "display_data"
    }
   ],
   "source": [
    "import matplotlib.pyplot as plt\n",
    "\n",
    "plt.imshow(x_train[0, :, :])\n",
    "print(y_train[0])"
   ]
  },
  {
   "cell_type": "code",
   "execution_count": 5,
   "metadata": {},
   "outputs": [
    {
     "data": {
      "text/plain": [
       "<matplotlib.image.AxesImage at 0x13d5d9610>"
      ]
     },
     "execution_count": 5,
     "metadata": {},
     "output_type": "execute_result"
    },
    {
     "data": {
      "image/png": "[encoded data removed]",
      "text/plain": [
       "<Figure size 640x480 with 1 Axes>"
      ]
     },
     "metadata": {},
     "output_type": "display_data"
    }
   ],
   "source": [
    "import skimage.measure\n",
    "\n",
    "x_train = skimage.measure.block_reduce(x_train, (1,7, 7), np.mean)\n",
    "x_test = skimage.measure.block_reduce(x_test, (1,7,7), np.mean)\n",
    "\n",
    "plt.imshow(x_train[0, :, :])\n",
    "\n",
    "\n"
   ]
  },
  {
   "cell_type": "code",
   "execution_count": 6,
   "metadata": {},
   "outputs": [],
   "source": [
    "x = np.random.rand(100, 100)"
   ]
  },
  {
   "cell_type": "code",
   "execution_count": 7,
   "metadata": {
    "scrolled": true
   },
   "outputs": [
    {
     "name": "stdout",
     "output_type": "stream",
     "text": [
      "Epoch 1/100\n"
     ]
    },
    {
     "name": "stderr",
     "output_type": "stream",
     "text": [
      "/opt/anaconda3/lib/python3.11/site-packages/keras/src/layers/reshaping/flatten.py:37: UserWarning: Do not pass an `input_shape`/`input_dim` argument to a layer. When using Sequential models, prefer using an `Input(shape)` object as the first layer in the model instead.\n",
      "  super().__init__(**kwargs)\n"
     ]
    },
    {
     "name": "stdout",
     "output_type": "stream",
     "text": [
      "\u001b[1m16/16\u001b[0m \u001b[32m━━━━━━━━━━━━━━━━━━━━\u001b[0m\u001b[37m\u001b[0m \u001b[1m2s\u001b[0m 32ms/step - binary_accuracy: 0.5372 - loss: 0.7000 - val_binary_accuracy: 0.5140 - val_loss: 0.6868\n",
      "Epoch 2/100\n",
      "\u001b[1m16/16\u001b[0m \u001b[32m━━━━━━━━━━━━━━━━━━━━\u001b[0m\u001b[37m\u001b[0m \u001b[1m0s\u001b[0m 12ms/step - binary_accuracy: 0.5345 - loss: 0.6737 - val_binary_accuracy: 0.5140 - val_loss: 0.6691\n",
      "Epoch 3/100\n",
      "\u001b[1m16/16\u001b[0m \u001b[32m━━━━━━━━━━━━━━━━━━━━\u001b[0m\u001b[37m\u001b[0m \u001b[1m0s\u001b[0m 11ms/step - binary_accuracy: 0.5341 - loss: 0.6497 - val_binary_accuracy: 0.5140 - val_loss: 0.6504\n",
      "Epoch 4/100\n",
      "\u001b[1m16/16\u001b[0m \u001b[32m━━━━━━━━━━━━━━━━━━━━\u001b[0m\u001b[37m\u001b[0m \u001b[1m0s\u001b[0m 12ms/step - binary_accuracy: 0.5498 - loss: 0.6234 - val_binary_accuracy: 0.5140 - val_loss: 0.6295\n",
      "Epoch 5/100\n",
      "\u001b[1m16/16\u001b[0m \u001b[32m━━━━━━━━━━━━━━━━━━━━\u001b[0m\u001b[37m\u001b[0m \u001b[1m0s\u001b[0m 12ms/step - binary_accuracy: 0.5226 - loss: 0.6020 - val_binary_accuracy: 0.5140 - val_loss: 0.6067\n",
      "Epoch 6/100\n",
      "\u001b[1m16/16\u001b[0m \u001b[32m━━━━━━━━━━━━━━━━━━━━\u001b[0m\u001b[37m\u001b[0m \u001b[1m0s\u001b[0m 6ms/step - binary_accuracy: 0.5481 - loss: 0.5637 - val_binary_accuracy: 0.5280 - val_loss: 0.5816\n",
      "Epoch 7/100\n",
      "\u001b[1m16/16\u001b[0m \u001b[32m━━━━━━━━━━━━━━━━━━━━\u001b[0m\u001b[37m\u001b[0m \u001b[1m0s\u001b[0m 6ms/step - binary_accuracy: 0.5839 - loss: 0.5489 - val_binary_accuracy: 0.5560 - val_loss: 0.5559\n",
      "Epoch 8/100\n",
      "\u001b[1m16/16\u001b[0m \u001b[32m━━━━━━━━━━━━━━━━━━━━\u001b[0m\u001b[37m\u001b[0m \u001b[1m0s\u001b[0m 4ms/step - binary_accuracy: 0.6291 - loss: 0.5090 - val_binary_accuracy: 0.6080 - val_loss: 0.5271\n",
      "Epoch 9/100\n",
      "\u001b[1m16/16\u001b[0m \u001b[32m━━━━━━━━━━━━━━━━━━━━\u001b[0m\u001b[37m\u001b[0m \u001b[1m0s\u001b[0m 4ms/step - binary_accuracy: 0.7075 - loss: 0.4783 - val_binary_accuracy: 0.6340 - val_loss: 0.5013\n",
      "Epoch 10/100\n",
      "\u001b[1m16/16\u001b[0m \u001b[32m━━━━━━━━━━━━━━━━━━━━\u001b[0m\u001b[37m\u001b[0m \u001b[1m0s\u001b[0m 4ms/step - binary_accuracy: 0.7552 - loss: 0.4497 - val_binary_accuracy: 0.6980 - val_loss: 0.4723\n",
      "Epoch 11/100\n",
      "\u001b[1m16/16\u001b[0m \u001b[32m━━━━━━━━━━━━━━━━━━━━\u001b[0m\u001b[37m\u001b[0m \u001b[1m0s\u001b[0m 10ms/step - binary_accuracy: 0.8184 - loss: 0.4140 - val_binary_accuracy: 0.7060 - val_loss: 0.4498\n",
      "Epoch 12/100\n",
      "\u001b[1m16/16\u001b[0m \u001b[32m━━━━━━━━━━━━━━━━━━━━\u001b[0m\u001b[37m\u001b[0m \u001b[1m0s\u001b[0m 13ms/step - binary_accuracy: 0.8354 - loss: 0.3802 - val_binary_accuracy: 0.7480 - val_loss: 0.4259\n",
      "Epoch 13/100\n",
      "\u001b[1m16/16\u001b[0m \u001b[32m━━━━━━━━━━━━━━━━━━━━\u001b[0m\u001b[37m\u001b[0m \u001b[1m0s\u001b[0m 5ms/step - binary_accuracy: 0.8792 - loss: 0.3470 - val_binary_accuracy: 0.7620 - val_loss: 0.4057\n",
      "Epoch 14/100\n",
      "\u001b[1m16/16\u001b[0m \u001b[32m━━━━━━━━━━━━━━━━━━━━\u001b[0m\u001b[37m\u001b[0m \u001b[1m0s\u001b[0m 6ms/step - binary_accuracy: 0.8913 - loss: 0.3332 - val_binary_accuracy: 0.7980 - val_loss: 0.3861\n",
      "Epoch 15/100\n",
      "\u001b[1m16/16\u001b[0m \u001b[32m━━━━━━━━━━━━━━━━━━━━\u001b[0m\u001b[37m\u001b[0m \u001b[1m0s\u001b[0m 6ms/step - binary_accuracy: 0.8752 - loss: 0.3212 - val_binary_accuracy: 0.8000 - val_loss: 0.3724\n",
      "Epoch 16/100\n",
      "\u001b[1m16/16\u001b[0m \u001b[32m━━━━━━━━━━━━━━━━━━━━\u001b[0m\u001b[37m\u001b[0m \u001b[1m0s\u001b[0m 5ms/step - binary_accuracy: 0.8805 - loss: 0.2938 - val_binary_accuracy: 0.8340 - val_loss: 0.3549\n",
      "Epoch 17/100\n",
      "\u001b[1m16/16\u001b[0m \u001b[32m━━━━━━━━━━━━━━━━━━━━\u001b[0m\u001b[37m\u001b[0m \u001b[1m0s\u001b[0m 5ms/step - binary_accuracy: 0.9012 - loss: 0.2785 - val_binary_accuracy: 0.8440 - val_loss: 0.3427\n",
      "Epoch 18/100\n",
      "\u001b[1m16/16\u001b[0m \u001b[32m━━━━━━━━━━━━━━━━━━━━\u001b[0m\u001b[37m\u001b[0m \u001b[1m0s\u001b[0m 5ms/step - binary_accuracy: 0.8923 - loss: 0.2865 - val_binary_accuracy: 0.8380 - val_loss: 0.3339\n",
      "Epoch 19/100\n",
      "\u001b[1m16/16\u001b[0m \u001b[32m━━━━━━━━━━━━━━━━━━━━\u001b[0m\u001b[37m\u001b[0m \u001b[1m0s\u001b[0m 5ms/step - binary_accuracy: 0.9092 - loss: 0.2497 - val_binary_accuracy: 0.8620 - val_loss: 0.3229\n",
      "Epoch 20/100\n",
      "\u001b[1m16/16\u001b[0m \u001b[32m━━━━━━━━━━━━━━━━━━━━\u001b[0m\u001b[37m\u001b[0m \u001b[1m0s\u001b[0m 5ms/step - binary_accuracy: 0.9107 - loss: 0.2487 - val_binary_accuracy: 0.8680 - val_loss: 0.3148\n",
      "Epoch 21/100\n",
      "\u001b[1m16/16\u001b[0m \u001b[32m━━━━━━━━━━━━━━━━━━━━\u001b[0m\u001b[37m\u001b[0m \u001b[1m0s\u001b[0m 5ms/step - binary_accuracy: 0.9169 - loss: 0.2404 - val_binary_accuracy: 0.8800 - val_loss: 0.3067\n",
      "Epoch 22/100\n",
      "\u001b[1m16/16\u001b[0m \u001b[32m━━━━━━━━━━━━━━━━━━━━\u001b[0m\u001b[37m\u001b[0m \u001b[1m0s\u001b[0m 4ms/step - binary_accuracy: 0.9283 - loss: 0.2148 - val_binary_accuracy: 0.8900 - val_loss: 0.2985\n",
      "Epoch 23/100\n",
      "\u001b[1m16/16\u001b[0m \u001b[32m━━━━━━━━━━━━━━━━━━━━\u001b[0m\u001b[37m\u001b[0m \u001b[1m0s\u001b[0m 5ms/step - binary_accuracy: 0.9239 - loss: 0.2239 - val_binary_accuracy: 0.8580 - val_loss: 0.3018\n",
      "Epoch 24/100\n",
      "\u001b[1m16/16\u001b[0m \u001b[32m━━━━━━━━━━━━━━━━━━━━\u001b[0m\u001b[37m\u001b[0m \u001b[1m0s\u001b[0m 5ms/step - binary_accuracy: 0.9242 - loss: 0.2196 - val_binary_accuracy: 0.8900 - val_loss: 0.2906\n",
      "Epoch 25/100\n",
      "\u001b[1m16/16\u001b[0m \u001b[32m━━━━━━━━━━━━━━━━━━━━\u001b[0m\u001b[37m\u001b[0m \u001b[1m0s\u001b[0m 5ms/step - binary_accuracy: 0.9354 - loss: 0.2110 - val_binary_accuracy: 0.8920 - val_loss: 0.2871\n",
      "Epoch 26/100\n",
      "\u001b[1m16/16\u001b[0m \u001b[32m━━━━━━━━━━━━━━━━━━━━\u001b[0m\u001b[37m\u001b[0m \u001b[1m0s\u001b[0m 5ms/step - binary_accuracy: 0.9330 - loss: 0.1920 - val_binary_accuracy: 0.8920 - val_loss: 0.2841\n",
      "Epoch 27/100\n",
      "\u001b[1m16/16\u001b[0m \u001b[32m━━━━━━━━━━━━━━━━━━━━\u001b[0m\u001b[37m\u001b[0m \u001b[1m0s\u001b[0m 5ms/step - binary_accuracy: 0.9450 - loss: 0.1741 - val_binary_accuracy: 0.8940 - val_loss: 0.2784\n",
      "Epoch 28/100\n",
      "\u001b[1m16/16\u001b[0m \u001b[32m━━━━━━━━━━━━━━━━━━━━\u001b[0m\u001b[37m\u001b[0m \u001b[1m0s\u001b[0m 5ms/step - binary_accuracy: 0.9151 - loss: 0.1933 - val_binary_accuracy: 0.8920 - val_loss: 0.2770\n",
      "Epoch 29/100\n",
      "\u001b[1m16/16\u001b[0m \u001b[32m━━━━━━━━━━━━━━━━━━━━\u001b[0m\u001b[37m\u001b[0m \u001b[1m0s\u001b[0m 5ms/step - binary_accuracy: 0.9208 - loss: 0.1853 - val_binary_accuracy: 0.8860 - val_loss: 0.2795\n",
      "Epoch 30/100\n",
      "\u001b[1m16/16\u001b[0m \u001b[32m━━━━━━━━━━━━━━━━━━━━\u001b[0m\u001b[37m\u001b[0m \u001b[1m0s\u001b[0m 6ms/step - binary_accuracy: 0.9444 - loss: 0.1652 - val_binary_accuracy: 0.9040 - val_loss: 0.2702\n",
      "Epoch 31/100\n",
      "\u001b[1m16/16\u001b[0m \u001b[32m━━━━━━━━━━━━━━━━━━━━\u001b[0m\u001b[37m\u001b[0m \u001b[1m0s\u001b[0m 5ms/step - binary_accuracy: 0.9348 - loss: 0.1706 - val_binary_accuracy: 0.9000 - val_loss: 0.2704\n",
      "Epoch 32/100\n",
      "\u001b[1m16/16\u001b[0m \u001b[32m━━━━━━━━━━━━━━━━━━━━\u001b[0m\u001b[37m\u001b[0m \u001b[1m0s\u001b[0m 5ms/step - binary_accuracy: 0.9426 - loss: 0.1645 - val_binary_accuracy: 0.8960 - val_loss: 0.2703\n",
      "Epoch 33/100\n",
      "\u001b[1m16/16\u001b[0m \u001b[32m━━━━━━━━━━━━━━━━━━━━\u001b[0m\u001b[37m\u001b[0m \u001b[1m0s\u001b[0m 5ms/step - binary_accuracy: 0.9340 - loss: 0.1650 - val_binary_accuracy: 0.9000 - val_loss: 0.2686\n",
      "Epoch 34/100\n",
      "\u001b[1m16/16\u001b[0m \u001b[32m━━━━━━━━━━━━━━━━━━━━\u001b[0m\u001b[37m\u001b[0m \u001b[1m0s\u001b[0m 5ms/step - binary_accuracy: 0.9313 - loss: 0.1645 - val_binary_accuracy: 0.9020 - val_loss: 0.2667\n",
      "Epoch 35/100\n",
      "\u001b[1m16/16\u001b[0m \u001b[32m━━━━━━━━━━━━━━━━━━━━\u001b[0m\u001b[37m\u001b[0m \u001b[1m0s\u001b[0m 5ms/step - binary_accuracy: 0.9349 - loss: 0.1682 - val_binary_accuracy: 0.8980 - val_loss: 0.2680\n",
      "Epoch 36/100\n",
      "\u001b[1m16/16\u001b[0m \u001b[32m━━━━━━━━━━━━━━━━━━━━\u001b[0m\u001b[37m\u001b[0m \u001b[1m0s\u001b[0m 5ms/step - binary_accuracy: 0.9384 - loss: 0.1656 - val_binary_accuracy: 0.9040 - val_loss: 0.2662\n",
      "Epoch 37/100\n",
      "\u001b[1m16/16\u001b[0m \u001b[32m━━━━━━━━━━━━━━━━━━━━\u001b[0m\u001b[37m\u001b[0m \u001b[1m0s\u001b[0m 5ms/step - binary_accuracy: 0.9334 - loss: 0.1782 - val_binary_accuracy: 0.9060 - val_loss: 0.2632\n",
      "Epoch 38/100\n",
      "\u001b[1m16/16\u001b[0m \u001b[32m━━━━━━━━━━━━━━━━━━━━\u001b[0m\u001b[37m\u001b[0m \u001b[1m0s\u001b[0m 5ms/step - binary_accuracy: 0.9455 - loss: 0.1667 - val_binary_accuracy: 0.9000 - val_loss: 0.2674\n",
      "Epoch 39/100\n",
      "\u001b[1m16/16\u001b[0m \u001b[32m━━━━━━━━━━━━━━━━━━━━\u001b[0m\u001b[37m\u001b[0m \u001b[1m0s\u001b[0m 6ms/step - binary_accuracy: 0.9347 - loss: 0.1553 - val_binary_accuracy: 0.9000 - val_loss: 0.2643\n",
      "Epoch 40/100\n",
      "\u001b[1m16/16\u001b[0m \u001b[32m━━━━━━━━━━━━━━━━━━━━\u001b[0m\u001b[37m\u001b[0m \u001b[1m0s\u001b[0m 5ms/step - binary_accuracy: 0.9367 - loss: 0.1564 - val_binary_accuracy: 0.9000 - val_loss: 0.2664\n",
      "Epoch 41/100\n",
      "\u001b[1m16/16\u001b[0m \u001b[32m━━━━━━━━━━━━━━━━━━━━\u001b[0m\u001b[37m\u001b[0m \u001b[1m0s\u001b[0m 5ms/step - binary_accuracy: 0.9603 - loss: 0.1329 - val_binary_accuracy: 0.9020 - val_loss: 0.2644\n",
      "Epoch 42/100\n",
      "\u001b[1m16/16\u001b[0m \u001b[32m━━━━━━━━━━━━━━━━━━━━\u001b[0m\u001b[37m\u001b[0m \u001b[1m0s\u001b[0m 6ms/step - binary_accuracy: 0.9382 - loss: 0.1424 - val_binary_accuracy: 0.9020 - val_loss: 0.2655\n",
      "Epoch 43/100\n",
      "\u001b[1m16/16\u001b[0m \u001b[32m━━━━━━━━━━━━━━━━━━━━\u001b[0m\u001b[37m\u001b[0m \u001b[1m0s\u001b[0m 5ms/step - binary_accuracy: 0.9458 - loss: 0.1494 - val_binary_accuracy: 0.9000 - val_loss: 0.2644\n",
      "Epoch 44/100\n",
      "\u001b[1m16/16\u001b[0m \u001b[32m━━━━━━━━━━━━━━━━━━━━\u001b[0m\u001b[37m\u001b[0m \u001b[1m0s\u001b[0m 5ms/step - binary_accuracy: 0.9555 - loss: 0.1466 - val_binary_accuracy: 0.9020 - val_loss: 0.2656\n",
      "Epoch 45/100\n",
      "\u001b[1m16/16\u001b[0m \u001b[32m━━━━━━━━━━━━━━━━━━━━\u001b[0m\u001b[37m\u001b[0m \u001b[1m0s\u001b[0m 5ms/step - binary_accuracy: 0.9525 - loss: 0.1222 - val_binary_accuracy: 0.9000 - val_loss: 0.2655\n",
      "Epoch 46/100\n",
      "\u001b[1m16/16\u001b[0m \u001b[32m━━━━━━━━━━━━━━━━━━━━\u001b[0m\u001b[37m\u001b[0m \u001b[1m0s\u001b[0m 6ms/step - binary_accuracy: 0.9497 - loss: 0.1469 - val_binary_accuracy: 0.9020 - val_loss: 0.2650\n",
      "Epoch 47/100\n",
      "\u001b[1m16/16\u001b[0m \u001b[32m━━━━━━━━━━━━━━━━━━━━\u001b[0m\u001b[37m\u001b[0m \u001b[1m0s\u001b[0m 5ms/step - binary_accuracy: 0.9506 - loss: 0.1396 - val_binary_accuracy: 0.9020 - val_loss: 0.2660\n",
      "Epoch 48/100\n",
      "\u001b[1m16/16\u001b[0m \u001b[32m━━━━━━━━━━━━━━━━━━━━\u001b[0m\u001b[37m\u001b[0m \u001b[1m0s\u001b[0m 5ms/step - binary_accuracy: 0.9409 - loss: 0.1571 - val_binary_accuracy: 0.9000 - val_loss: 0.2658\n",
      "Epoch 49/100\n",
      "\u001b[1m16/16\u001b[0m \u001b[32m━━━━━━━━━━━━━━━━━━━━\u001b[0m\u001b[37m\u001b[0m \u001b[1m0s\u001b[0m 5ms/step - binary_accuracy: 0.9537 - loss: 0.1460 - val_binary_accuracy: 0.9060 - val_loss: 0.2643\n",
      "Epoch 50/100\n",
      "\u001b[1m16/16\u001b[0m \u001b[32m━━━━━━━━━━━━━━━━━━━━\u001b[0m\u001b[37m\u001b[0m \u001b[1m0s\u001b[0m 5ms/step - binary_accuracy: 0.9359 - loss: 0.1586 - val_binary_accuracy: 0.9000 - val_loss: 0.2667\n",
      "Epoch 51/100\n",
      "\u001b[1m16/16\u001b[0m \u001b[32m━━━━━━━━━━━━━━━━━━━━\u001b[0m\u001b[37m\u001b[0m \u001b[1m0s\u001b[0m 5ms/step - binary_accuracy: 0.9636 - loss: 0.1317 - val_binary_accuracy: 0.9000 - val_loss: 0.2665\n",
      "Epoch 52/100\n",
      "\u001b[1m16/16\u001b[0m \u001b[32m━━━━━━━━━━━━━━━━━━━━\u001b[0m\u001b[37m\u001b[0m \u001b[1m0s\u001b[0m 5ms/step - binary_accuracy: 0.9446 - loss: 0.1517 - val_binary_accuracy: 0.9000 - val_loss: 0.2675\n",
      "Epoch 53/100\n",
      "\u001b[1m16/16\u001b[0m \u001b[32m━━━━━━━━━━━━━━━━━━━━\u001b[0m\u001b[37m\u001b[0m \u001b[1m0s\u001b[0m 5ms/step - binary_accuracy: 0.9597 - loss: 0.1360 - val_binary_accuracy: 0.9040 - val_loss: 0.2662\n",
      "Epoch 54/100\n",
      "\u001b[1m16/16\u001b[0m \u001b[32m━━━━━━━━━━━━━━━━━━━━\u001b[0m\u001b[37m\u001b[0m \u001b[1m0s\u001b[0m 5ms/step - binary_accuracy: 0.9570 - loss: 0.1221 - val_binary_accuracy: 0.9000 - val_loss: 0.2677\n",
      "Epoch 55/100\n",
      "\u001b[1m16/16\u001b[0m \u001b[32m━━━━━━━━━━━━━━━━━━━━\u001b[0m\u001b[37m\u001b[0m \u001b[1m0s\u001b[0m 5ms/step - binary_accuracy: 0.9472 - loss: 0.1354 - val_binary_accuracy: 0.9040 - val_loss: 0.2676\n",
      "Epoch 56/100\n",
      "\u001b[1m16/16\u001b[0m \u001b[32m━━━━━━━━━━━━━━━━━━━━\u001b[0m\u001b[37m\u001b[0m \u001b[1m0s\u001b[0m 5ms/step - binary_accuracy: 0.9607 - loss: 0.1357 - val_binary_accuracy: 0.8980 - val_loss: 0.2696\n",
      "Epoch 57/100\n",
      "\u001b[1m16/16\u001b[0m \u001b[32m━━━━━━━━━━━━━━━━━━━━\u001b[0m\u001b[37m\u001b[0m \u001b[1m0s\u001b[0m 5ms/step - binary_accuracy: 0.9565 - loss: 0.1368 - val_binary_accuracy: 0.9040 - val_loss: 0.2675\n",
      "Epoch 58/100\n",
      "\u001b[1m16/16\u001b[0m \u001b[32m━━━━━━━━━━━━━━━━━━━━\u001b[0m\u001b[37m\u001b[0m \u001b[1m0s\u001b[0m 5ms/step - binary_accuracy: 0.9487 - loss: 0.1338 - val_binary_accuracy: 0.9020 - val_loss: 0.2700\n",
      "Epoch 59/100\n",
      "\u001b[1m16/16\u001b[0m \u001b[32m━━━━━━━━━━━━━━━━━━━━\u001b[0m\u001b[37m\u001b[0m \u001b[1m0s\u001b[0m 5ms/step - binary_accuracy: 0.9394 - loss: 0.1408 - val_binary_accuracy: 0.8980 - val_loss: 0.2710\n",
      "Epoch 60/100\n",
      "\u001b[1m16/16\u001b[0m \u001b[32m━━━━━━━━━━━━━━━━━━━━\u001b[0m\u001b[37m\u001b[0m \u001b[1m0s\u001b[0m 6ms/step - binary_accuracy: 0.9531 - loss: 0.1365 - val_binary_accuracy: 0.9040 - val_loss: 0.2688\n",
      "Epoch 61/100\n",
      "\u001b[1m16/16\u001b[0m \u001b[32m━━━━━━━━━━━━━━━━━━━━\u001b[0m\u001b[37m\u001b[0m \u001b[1m0s\u001b[0m 5ms/step - binary_accuracy: 0.9546 - loss: 0.1403 - val_binary_accuracy: 0.9020 - val_loss: 0.2714\n",
      "Epoch 62/100\n",
      "\u001b[1m16/16\u001b[0m \u001b[32m━━━━━━━━━━━━━━━━━━━━\u001b[0m\u001b[37m\u001b[0m \u001b[1m0s\u001b[0m 6ms/step - binary_accuracy: 0.9474 - loss: 0.1421 - val_binary_accuracy: 0.8980 - val_loss: 0.2693\n",
      "Epoch 63/100\n",
      "\u001b[1m16/16\u001b[0m \u001b[32m━━━━━━━━━━━━━━━━━━━━\u001b[0m\u001b[37m\u001b[0m \u001b[1m0s\u001b[0m 7ms/step - binary_accuracy: 0.9618 - loss: 0.1120 - val_binary_accuracy: 0.9000 - val_loss: 0.2729\n",
      "Epoch 64/100\n",
      "\u001b[1m16/16\u001b[0m \u001b[32m━━━━━━━━━━━━━━━━━━━━\u001b[0m\u001b[37m\u001b[0m \u001b[1m0s\u001b[0m 5ms/step - binary_accuracy: 0.9431 - loss: 0.1551 - val_binary_accuracy: 0.9000 - val_loss: 0.2732\n",
      "Epoch 65/100\n",
      "\u001b[1m16/16\u001b[0m \u001b[32m━━━━━━━━━━━━━━━━━━━━\u001b[0m\u001b[37m\u001b[0m \u001b[1m0s\u001b[0m 5ms/step - binary_accuracy: 0.9577 - loss: 0.1258 - val_binary_accuracy: 0.9020 - val_loss: 0.2715\n",
      "Epoch 66/100\n",
      "\u001b[1m16/16\u001b[0m \u001b[32m━━━━━━━━━━━━━━━━━━━━\u001b[0m\u001b[37m\u001b[0m \u001b[1m0s\u001b[0m 5ms/step - binary_accuracy: 0.9371 - loss: 0.1393 - val_binary_accuracy: 0.8960 - val_loss: 0.2763\n",
      "Epoch 67/100\n",
      "\u001b[1m16/16\u001b[0m \u001b[32m━━━━━━━━━━━━━━━━━━━━\u001b[0m\u001b[37m\u001b[0m \u001b[1m0s\u001b[0m 5ms/step - binary_accuracy: 0.9414 - loss: 0.1470 - val_binary_accuracy: 0.8980 - val_loss: 0.2716\n",
      "Epoch 68/100\n",
      "\u001b[1m16/16\u001b[0m \u001b[32m━━━━━━━━━━━━━━━━━━━━\u001b[0m\u001b[37m\u001b[0m \u001b[1m0s\u001b[0m 5ms/step - binary_accuracy: 0.9494 - loss: 0.1286 - val_binary_accuracy: 0.9000 - val_loss: 0.2745\n",
      "Epoch 69/100\n",
      "\u001b[1m16/16\u001b[0m \u001b[32m━━━━━━━━━━━━━━━━━━━━\u001b[0m\u001b[37m\u001b[0m \u001b[1m0s\u001b[0m 5ms/step - binary_accuracy: 0.9670 - loss: 0.1125 - val_binary_accuracy: 0.8960 - val_loss: 0.2727\n",
      "Epoch 70/100\n",
      "\u001b[1m16/16\u001b[0m \u001b[32m━━━━━━━━━━━━━━━━━━━━\u001b[0m\u001b[37m\u001b[0m \u001b[1m0s\u001b[0m 5ms/step - binary_accuracy: 0.9629 - loss: 0.1052 - val_binary_accuracy: 0.9020 - val_loss: 0.2749\n",
      "Epoch 71/100\n",
      "\u001b[1m16/16\u001b[0m \u001b[32m━━━━━━━━━━━━━━━━━━━━\u001b[0m\u001b[37m\u001b[0m \u001b[1m0s\u001b[0m 5ms/step - binary_accuracy: 0.9639 - loss: 0.1167 - val_binary_accuracy: 0.9000 - val_loss: 0.2770\n",
      "Epoch 72/100\n",
      "\u001b[1m16/16\u001b[0m \u001b[32m━━━━━━━━━━━━━━━━━━━━\u001b[0m\u001b[37m\u001b[0m \u001b[1m0s\u001b[0m 5ms/step - binary_accuracy: 0.9503 - loss: 0.1355 - val_binary_accuracy: 0.9020 - val_loss: 0.2741\n",
      "Epoch 73/100\n",
      "\u001b[1m16/16\u001b[0m \u001b[32m━━━━━━━━━━━━━━━━━━━━\u001b[0m\u001b[37m\u001b[0m \u001b[1m0s\u001b[0m 5ms/step - binary_accuracy: 0.9610 - loss: 0.1115 - val_binary_accuracy: 0.8980 - val_loss: 0.2769\n",
      "Epoch 74/100\n",
      "\u001b[1m16/16\u001b[0m \u001b[32m━━━━━━━━━━━━━━━━━━━━\u001b[0m\u001b[37m\u001b[0m \u001b[1m0s\u001b[0m 5ms/step - binary_accuracy: 0.9534 - loss: 0.1250 - val_binary_accuracy: 0.8980 - val_loss: 0.2776\n",
      "Epoch 75/100\n",
      "\u001b[1m16/16\u001b[0m \u001b[32m━━━━━━━━━━━━━━━━━━━━\u001b[0m\u001b[37m\u001b[0m \u001b[1m0s\u001b[0m 5ms/step - binary_accuracy: 0.9571 - loss: 0.1155 - val_binary_accuracy: 0.8980 - val_loss: 0.2778\n",
      "Epoch 76/100\n",
      "\u001b[1m16/16\u001b[0m \u001b[32m━━━━━━━━━━━━━━━━━━━━\u001b[0m\u001b[37m\u001b[0m \u001b[1m0s\u001b[0m 5ms/step - binary_accuracy: 0.9568 - loss: 0.1239 - val_binary_accuracy: 0.9020 - val_loss: 0.2769\n",
      "Epoch 77/100\n",
      "\u001b[1m16/16\u001b[0m \u001b[32m━━━━━━━━━━━━━━━━━━━━\u001b[0m\u001b[37m\u001b[0m \u001b[1m0s\u001b[0m 5ms/step - binary_accuracy: 0.9509 - loss: 0.1261 - val_binary_accuracy: 0.8980 - val_loss: 0.2795\n",
      "Epoch 78/100\n",
      "\u001b[1m16/16\u001b[0m \u001b[32m━━━━━━━━━━━━━━━━━━━━\u001b[0m\u001b[37m\u001b[0m \u001b[1m0s\u001b[0m 5ms/step - binary_accuracy: 0.9420 - loss: 0.1456 - val_binary_accuracy: 0.9020 - val_loss: 0.2777\n",
      "Epoch 79/100\n",
      "\u001b[1m16/16\u001b[0m \u001b[32m━━━━━━━━━━━━━━━━━━━━\u001b[0m\u001b[37m\u001b[0m \u001b[1m0s\u001b[0m 9ms/step - binary_accuracy: 0.9508 - loss: 0.1150 - val_binary_accuracy: 0.8960 - val_loss: 0.2794\n",
      "Epoch 80/100\n",
      "\u001b[1m16/16\u001b[0m \u001b[32m━━━━━━━━━━━━━━━━━━━━\u001b[0m\u001b[37m\u001b[0m \u001b[1m0s\u001b[0m 5ms/step - binary_accuracy: 0.9544 - loss: 0.1435 - val_binary_accuracy: 0.9000 - val_loss: 0.2786\n",
      "Epoch 81/100\n",
      "\u001b[1m16/16\u001b[0m \u001b[32m━━━━━━━━━━━━━━━━━━━━\u001b[0m\u001b[37m\u001b[0m \u001b[1m0s\u001b[0m 6ms/step - binary_accuracy: 0.9388 - loss: 0.1371 - val_binary_accuracy: 0.9000 - val_loss: 0.2789\n",
      "Epoch 82/100\n",
      "\u001b[1m16/16\u001b[0m \u001b[32m━━━━━━━━━━━━━━━━━━━━\u001b[0m\u001b[37m\u001b[0m \u001b[1m0s\u001b[0m 5ms/step - binary_accuracy: 0.9646 - loss: 0.1074 - val_binary_accuracy: 0.8980 - val_loss: 0.2811\n",
      "Epoch 83/100\n",
      "\u001b[1m16/16\u001b[0m \u001b[32m━━━━━━━━━━━━━━━━━━━━\u001b[0m\u001b[37m\u001b[0m \u001b[1m0s\u001b[0m 5ms/step - binary_accuracy: 0.9646 - loss: 0.1128 - val_binary_accuracy: 0.9000 - val_loss: 0.2827\n",
      "Epoch 84/100\n",
      "\u001b[1m16/16\u001b[0m \u001b[32m━━━━━━━━━━━━━━━━━━━━\u001b[0m\u001b[37m\u001b[0m \u001b[1m0s\u001b[0m 6ms/step - binary_accuracy: 0.9591 - loss: 0.1152 - val_binary_accuracy: 0.9000 - val_loss: 0.2806\n",
      "Epoch 85/100\n",
      "\u001b[1m16/16\u001b[0m \u001b[32m━━━━━━━━━━━━━━━━━━━━\u001b[0m\u001b[37m\u001b[0m \u001b[1m0s\u001b[0m 5ms/step - binary_accuracy: 0.9540 - loss: 0.1155 - val_binary_accuracy: 0.8980 - val_loss: 0.2815\n",
      "Epoch 86/100\n",
      "\u001b[1m16/16\u001b[0m \u001b[32m━━━━━━━━━━━━━━━━━━━━\u001b[0m\u001b[37m\u001b[0m \u001b[1m0s\u001b[0m 5ms/step - binary_accuracy: 0.9512 - loss: 0.1246 - val_binary_accuracy: 0.9000 - val_loss: 0.2862\n",
      "Epoch 87/100\n",
      "\u001b[1m16/16\u001b[0m \u001b[32m━━━━━━━━━━━━━━━━━━━━\u001b[0m\u001b[37m\u001b[0m \u001b[1m0s\u001b[0m 5ms/step - binary_accuracy: 0.9545 - loss: 0.1164 - val_binary_accuracy: 0.8940 - val_loss: 0.2818\n",
      "Epoch 88/100\n",
      "\u001b[1m16/16\u001b[0m \u001b[32m━━━━━━━━━━━━━━━━━━━━\u001b[0m\u001b[37m\u001b[0m \u001b[1m0s\u001b[0m 5ms/step - binary_accuracy: 0.9659 - loss: 0.1184 - val_binary_accuracy: 0.8980 - val_loss: 0.2841\n",
      "Epoch 89/100\n",
      "\u001b[1m16/16\u001b[0m \u001b[32m━━━━━━━━━━━━━━━━━━━━\u001b[0m\u001b[37m\u001b[0m \u001b[1m0s\u001b[0m 6ms/step - binary_accuracy: 0.9552 - loss: 0.1251 - val_binary_accuracy: 0.8980 - val_loss: 0.2829\n",
      "Epoch 90/100\n",
      "\u001b[1m16/16\u001b[0m \u001b[32m━━━━━━━━━━━━━━━━━━━━\u001b[0m\u001b[37m\u001b[0m \u001b[1m0s\u001b[0m 5ms/step - binary_accuracy: 0.9396 - loss: 0.1328 - val_binary_accuracy: 0.8980 - val_loss: 0.2831\n",
      "Epoch 91/100\n",
      "\u001b[1m16/16\u001b[0m \u001b[32m━━━━━━━━━━━━━━━━━━━━\u001b[0m\u001b[37m\u001b[0m \u001b[1m0s\u001b[0m 5ms/step - binary_accuracy: 0.9579 - loss: 0.1104 - val_binary_accuracy: 0.9000 - val_loss: 0.2853\n",
      "Epoch 92/100\n",
      "\u001b[1m16/16\u001b[0m \u001b[32m━━━━━━━━━━━━━━━━━━━━\u001b[0m\u001b[37m\u001b[0m \u001b[1m0s\u001b[0m 5ms/step - binary_accuracy: 0.9521 - loss: 0.1156 - val_binary_accuracy: 0.8960 - val_loss: 0.2831\n",
      "Epoch 93/100\n",
      "\u001b[1m16/16\u001b[0m \u001b[32m━━━━━━━━━━━━━━━━━━━━\u001b[0m\u001b[37m\u001b[0m \u001b[1m0s\u001b[0m 5ms/step - binary_accuracy: 0.9552 - loss: 0.1429 - val_binary_accuracy: 0.9000 - val_loss: 0.2873\n",
      "Epoch 94/100\n",
      "\u001b[1m16/16\u001b[0m \u001b[32m━━━━━━━━━━━━━━━━━━━━\u001b[0m\u001b[37m\u001b[0m \u001b[1m0s\u001b[0m 5ms/step - binary_accuracy: 0.9501 - loss: 0.1360 - val_binary_accuracy: 0.8980 - val_loss: 0.2846\n",
      "Epoch 95/100\n",
      "\u001b[1m16/16\u001b[0m \u001b[32m━━━━━━━━━━━━━━━━━━━━\u001b[0m\u001b[37m\u001b[0m \u001b[1m0s\u001b[0m 5ms/step - binary_accuracy: 0.9508 - loss: 0.1283 - val_binary_accuracy: 0.8960 - val_loss: 0.2862\n",
      "Epoch 96/100\n",
      "\u001b[1m16/16\u001b[0m \u001b[32m━━━━━━━━━━━━━━━━━━━━\u001b[0m\u001b[37m\u001b[0m \u001b[1m0s\u001b[0m 9ms/step - binary_accuracy: 0.9492 - loss: 0.1142 - val_binary_accuracy: 0.9000 - val_loss: 0.2890\n",
      "Epoch 97/100\n",
      "\u001b[1m16/16\u001b[0m \u001b[32m━━━━━━━━━━━━━━━━━━━━\u001b[0m\u001b[37m\u001b[0m \u001b[1m0s\u001b[0m 5ms/step - binary_accuracy: 0.9616 - loss: 0.1071 - val_binary_accuracy: 0.8960 - val_loss: 0.2861\n",
      "Epoch 98/100\n",
      "\u001b[1m16/16\u001b[0m \u001b[32m━━━━━━━━━━━━━━━━━━━━\u001b[0m\u001b[37m\u001b[0m \u001b[1m0s\u001b[0m 5ms/step - binary_accuracy: 0.9428 - loss: 0.1420 - val_binary_accuracy: 0.8960 - val_loss: 0.2869\n",
      "Epoch 99/100\n",
      "\u001b[1m16/16\u001b[0m \u001b[32m━━━━━━━━━━━━━━━━━━━━\u001b[0m\u001b[37m\u001b[0m \u001b[1m0s\u001b[0m 5ms/step - binary_accuracy: 0.9539 - loss: 0.1160 - val_binary_accuracy: 0.8960 - val_loss: 0.2884\n",
      "Epoch 100/100\n",
      "\u001b[1m16/16\u001b[0m \u001b[32m━━━━━━━━━━━━━━━━━━━━\u001b[0m\u001b[37m\u001b[0m \u001b[1m0s\u001b[0m 5ms/step - binary_accuracy: 0.9652 - loss: 0.0994 - val_binary_accuracy: 0.8980 - val_loss: 0.2894\n"
     ]
    },
    {
     "data": {
      "text/plain": [
       "<keras.src.callbacks.history.History at 0x13d7a1c50>"
      ]
     },
     "execution_count": 7,
     "metadata": {},
     "output_type": "execute_result"
    }
   ],
   "source": [
    "import tensorflow as tf\n",
    "\n",
    "test = (x_test, y_test)\n",
    "\n",
    "size=4\n",
    "model = tf.keras.models.Sequential([\n",
    "  tf.keras.layers.Flatten(input_shape=(size,size)),\n",
    "  tf.keras.layers.Dense(128, activation='relu'),\n",
    "  tf.keras.layers.Dense(1)\n",
    "])\n",
    "model.compile(\n",
    "    optimizer=tf.keras.optimizers.Adam(0.001),\n",
    "    loss=tf.keras.losses.BinaryCrossentropy(from_logits=True),\n",
    "    metrics=[tf.keras.metrics.BinaryAccuracy()],\n",
    ")\n",
    "\n",
    "model.fit(x_train, y_train, epochs=100,validation_data=test,\n",
    ")"
   ]
  },
  {
   "cell_type": "code",
   "execution_count": 8,
   "metadata": {},
   "outputs": [
    {
     "data": {
      "text/html": [
       "<pre style=\"white-space:pre;overflow-x:auto;line-height:normal;font-family:Menlo,'DejaVu Sans Mono',consolas,'Courier New',monospace\"><span style=\"font-weight: bold\">Model: \"sequential\"</span>\n",
       "</pre>\n"
      ],
      "text/plain": [
       "\u001b[1mModel: \"sequential\"\u001b[0m\n"
      ]
     },
     "metadata": {},
     "output_type": "display_data"
    },
    {
     "data": {
      "text/html": [
       "<pre style=\"white-space:pre;overflow-x:auto;line-height:normal;font-family:Menlo,'DejaVu Sans Mono',consolas,'Courier New',monospace\">┏━━━━━━━━━━━━━━━━━━━━━━━━━━━━━━━━━┳━━━━━━━━━━━━━━━━━━━━━━━━┳━━━━━━━━━━━━━━━┓\n",
       "┃<span style=\"font-weight: bold\"> Layer (type)                    </span>┃<span style=\"font-weight: bold\"> Output Shape           </span>┃<span style=\"font-weight: bold\">       Param # </span>┃\n",
       "┡━━━━━━━━━━━━━━━━━━━━━━━━━━━━━━━━━╇━━━━━━━━━━━━━━━━━━━━━━━━╇━━━━━━━━━━━━━━━┩\n",
       "│ flatten (<span style=\"color: #0087ff; text-decoration-color: #0087ff\">Flatten</span>)               │ (<span style=\"color: #00d7ff; text-decoration-color: #00d7ff\">None</span>, <span style=\"color: #00af00; text-decoration-color: #00af00\">16</span>)             │             <span style=\"color: #00af00; text-decoration-color: #00af00\">0</span> │\n",
       "├─────────────────────────────────┼────────────────────────┼───────────────┤\n",
       "│ dense (<span style=\"color: #0087ff; text-decoration-color: #0087ff\">Dense</span>)                   │ (<span style=\"color: #00d7ff; text-decoration-color: #00d7ff\">None</span>, <span style=\"color: #00af00; text-decoration-color: #00af00\">128</span>)            │         <span style=\"color: #00af00; text-decoration-color: #00af00\">2,176</span> │\n",
       "├─────────────────────────────────┼────────────────────────┼───────────────┤\n",
       "│ dense_1 (<span style=\"color: #0087ff; text-decoration-color: #0087ff\">Dense</span>)                 │ (<span style=\"color: #00d7ff; text-decoration-color: #00d7ff\">None</span>, <span style=\"color: #00af00; text-decoration-color: #00af00\">1</span>)              │           <span style=\"color: #00af00; text-decoration-color: #00af00\">129</span> │\n",
       "└─────────────────────────────────┴────────────────────────┴───────────────┘\n",
       "</pre>\n"
      ],
      "text/plain": [
       "┏━━━━━━━━━━━━━━━━━━━━━━━━━━━━━━━━━┳━━━━━━━━━━━━━━━━━━━━━━━━┳━━━━━━━━━━━━━━━┓\n",
       "┃\u001b[1m \u001b[0m\u001b[1mLayer (type)                   \u001b[0m\u001b[1m \u001b[0m┃\u001b[1m \u001b[0m\u001b[1mOutput Shape          \u001b[0m\u001b[1m \u001b[0m┃\u001b[1m \u001b[0m\u001b[1m      Param #\u001b[0m\u001b[1m \u001b[0m┃\n",
       "┡━━━━━━━━━━━━━━━━━━━━━━━━━━━━━━━━━╇━━━━━━━━━━━━━━━━━━━━━━━━╇━━━━━━━━━━━━━━━┩\n",
       "│ flatten (\u001b[38;5;33mFlatten\u001b[0m)               │ (\u001b[38;5;45mNone\u001b[0m, \u001b[38;5;34m16\u001b[0m)             │             \u001b[38;5;34m0\u001b[0m │\n",
       "├─────────────────────────────────┼────────────────────────┼───────────────┤\n",
       "│ dense (\u001b[38;5;33mDense\u001b[0m)                   │ (\u001b[38;5;45mNone\u001b[0m, \u001b[38;5;34m128\u001b[0m)            │         \u001b[38;5;34m2,176\u001b[0m │\n",
       "├─────────────────────────────────┼────────────────────────┼───────────────┤\n",
       "│ dense_1 (\u001b[38;5;33mDense\u001b[0m)                 │ (\u001b[38;5;45mNone\u001b[0m, \u001b[38;5;34m1\u001b[0m)              │           \u001b[38;5;34m129\u001b[0m │\n",
       "└─────────────────────────────────┴────────────────────────┴───────────────┘\n"
      ]
     },
     "metadata": {},
     "output_type": "display_data"
    },
    {
     "data": {
      "text/html": [
       "<pre style=\"white-space:pre;overflow-x:auto;line-height:normal;font-family:Menlo,'DejaVu Sans Mono',consolas,'Courier New',monospace\"><span style=\"font-weight: bold\"> Total params: </span><span style=\"color: #00af00; text-decoration-color: #00af00\">6,917</span> (27.02 KB)\n",
       "</pre>\n"
      ],
      "text/plain": [
       "\u001b[1m Total params: \u001b[0m\u001b[38;5;34m6,917\u001b[0m (27.02 KB)\n"
      ]
     },
     "metadata": {},
     "output_type": "display_data"
    },
    {
     "data": {
      "text/html": [
       "<pre style=\"white-space:pre;overflow-x:auto;line-height:normal;font-family:Menlo,'DejaVu Sans Mono',consolas,'Courier New',monospace\"><span style=\"font-weight: bold\"> Trainable params: </span><span style=\"color: #00af00; text-decoration-color: #00af00\">2,305</span> (9.00 KB)\n",
       "</pre>\n"
      ],
      "text/plain": [
       "\u001b[1m Trainable params: \u001b[0m\u001b[38;5;34m2,305\u001b[0m (9.00 KB)\n"
      ]
     },
     "metadata": {},
     "output_type": "display_data"
    },
    {
     "data": {
      "text/html": [
       "<pre style=\"white-space:pre;overflow-x:auto;line-height:normal;font-family:Menlo,'DejaVu Sans Mono',consolas,'Courier New',monospace\"><span style=\"font-weight: bold\"> Non-trainable params: </span><span style=\"color: #00af00; text-decoration-color: #00af00\">0</span> (0.00 B)\n",
       "</pre>\n"
      ],
      "text/plain": [
       "\u001b[1m Non-trainable params: \u001b[0m\u001b[38;5;34m0\u001b[0m (0.00 B)\n"
      ]
     },
     "metadata": {},
     "output_type": "display_data"
    },
    {
     "data": {
      "text/html": [
       "<pre style=\"white-space:pre;overflow-x:auto;line-height:normal;font-family:Menlo,'DejaVu Sans Mono',consolas,'Courier New',monospace\"><span style=\"font-weight: bold\"> Optimizer params: </span><span style=\"color: #00af00; text-decoration-color: #00af00\">4,612</span> (18.02 KB)\n",
       "</pre>\n"
      ],
      "text/plain": [
       "\u001b[1m Optimizer params: \u001b[0m\u001b[38;5;34m4,612\u001b[0m (18.02 KB)\n"
      ]
     },
     "metadata": {},
     "output_type": "display_data"
    }
   ],
   "source": [
    "model.summary()"
   ]
  },
  {
   "cell_type": "markdown",
   "metadata": {},
   "source": [
    "## Decompose MPO"
   ]
  },
  {
   "cell_type": "code",
   "execution_count": 9,
   "metadata": {},
   "outputs": [],
   "source": [
    "up_legs=[4,4,4,2]\n",
    "down_legs=[2,2,2,2]\n",
    "bonds=[8,32,4]\n",
    "\n",
    "def MPO_from_mat(mat,up_legs,down_legs,bonds,bd_cut=0,verbose=False):\n",
    "\n",
    "    temp=mat\n",
    "    if verbose:print(f\"Initial Matrix: {np.shape(temp)}\")\n",
    "\n",
    "    #unsqueeze\n",
    "    x,y=np.shape(temp)\n",
    "    temp=np.reshape(temp,(1,x,y,1))\n",
    "    if verbose:print(f\"Unsqueezed: {np.shape(temp)}\")\n",
    "    \n",
    "    sites=len(up_legs)\n",
    "    if verbose:print(f\"Creating MPO with: {sites} sites\\n\")\n",
    "\n",
    "    operators=[]\n",
    "    S_original=[]\n",
    "    S_cut=[]\n",
    "    for i in range(sites):\n",
    "\n",
    "        if verbose:print(f\"Building tensor {i}\")\n",
    "\n",
    "        #LEFTMOST TENSOR\n",
    "        if i==0:\n",
    "            \n",
    "            #split legs \n",
    "            temp=np.reshape(temp,(1,down_legs[i],np.prod(down_legs[i+1:]),up_legs[i],np.prod(up_legs[i+1:]),1))\n",
    "            if verbose:print(f\"Splitted legs: {np.shape(temp)}\")\n",
    "\n",
    "            #transpose \n",
    "            temp=np.transpose(temp,(0,1,3,2,4,5))\n",
    "            if verbose:print(f\"Transpose: {np.shape(temp)}\")\n",
    "\n",
    "            #join legs \n",
    "            left,x,y,z,t,right=np.shape(temp)\n",
    "            temp=np.reshape(temp,(left*x*y,z*t*right))\n",
    "            if verbose:print(f\"Joined:{np.shape(temp)}\")\n",
    "\n",
    "            #perform SVD\n",
    "            U,S,V = np.linalg.svd(temp,full_matrices=False)\n",
    "            S_original.append(S)\n",
    "            if verbose:print(f\"Operator before cut :{np.shape(U)}\")\n",
    "\n",
    "            #perform cut\n",
    "            if bd_cut!=0:\n",
    "                eff_cut=min(int(np.shape(U)[-1]),bd_cut)\n",
    "                U=U[:,:eff_cut];S=S[:eff_cut];V=V[:eff_cut,:];\n",
    "            if verbose:print(f\"Operator after cut :{np.shape(U)}\")\n",
    "            S_cut.append(S)\n",
    "\n",
    "            #build operator \n",
    "            right_dim=np.shape(U)[-1]\n",
    "            op=np.reshape(U,(1,down_legs[i],up_legs[i],right_dim))\n",
    "            operators.append(op)\n",
    "            if verbose:print(f\"Stored operator:{np.shape(op)}\")\n",
    "\n",
    "            #return temp \n",
    "            temp=np.tensordot(np.diag(S),V,axes=([1,0]))\n",
    "            if verbose:print(f\"Next matrix:{np.shape(temp)}\\n\")\n",
    "\n",
    "        #RIGHTMOST\n",
    "        elif i==sites-1:\n",
    "\n",
    "            #reshape operatr \n",
    "            op=np.reshape(temp,(bonds[-1],down_legs[i],up_legs[i],1))\n",
    "            if verbose:print(f\"Final tensor:{np.shape(op)}\")\n",
    "            operators.append(op)\n",
    "        \n",
    "        #CENTRAL TENSOR\n",
    "        else:\n",
    "\n",
    "            left,right=np.shape(temp)\n",
    "            #split legs \n",
    "            temp=np.reshape(temp,(left,down_legs[i],np.prod(down_legs[i+1:]),up_legs[i],np.prod(up_legs[i+1:])))\n",
    "            if verbose:print(f\"Splitted legs: {np.shape(temp)}\")\n",
    "\n",
    "            #transpose \n",
    "            temp=np.transpose(temp,(0,1,3,2,4))\n",
    "            if verbose:print(f\"Transpose: {np.shape(temp)}\")\n",
    "\n",
    "            #join legs \n",
    "            left,x,y,z,t=np.shape(temp)\n",
    "            temp=np.reshape(temp,(left*x*y,z*t))\n",
    "            if verbose:print(f\"Joined:{np.shape(temp)}\")\n",
    "\n",
    "            #perform SVD\n",
    "            U,S,V = np.linalg.svd(temp,full_matrices=False)\n",
    "            if verbose:print(f\"Operator before cut :{np.shape(U)}\")\n",
    "\n",
    "            #perform cut\n",
    "            if bd_cut!=0:\n",
    "                eff_cut=min(np.shape(U)[-1],bd_cut)\n",
    "                U=U[:,:eff_cut];S=S[:eff_cut];V=V[:eff_cut,:];\n",
    "            if verbose:print(f\"Operator after cut :{np.shape(U)}\")\n",
    "\n",
    "            #build operator \n",
    "            right_dim=np.shape(U)[-1]\n",
    "            op=np.reshape(U,(left,down_legs[i],up_legs[i],right_dim))\n",
    "            operators.append(op)\n",
    "\n",
    "            #return temp \n",
    "            temp=np.tensordot(np.diag(S),V,axes=([1,0]))\n",
    "            if verbose:print(f\"Next matrix:{np.shape(temp)}\\n\")\n",
    "\n",
    "    return [operators,S_original,S_cut]\n",
    "            \n",
    "\n",
    "MPO,S,S_cut=MPO_from_mat(model.weights[0],up_legs,down_legs,bonds,bd_cut=16)"
   ]
  },
  {
   "cell_type": "code",
   "execution_count": 10,
   "metadata": {},
   "outputs": [],
   "source": [
    "## Count number of parameters in MPO \n",
    "\n",
    "def count_params(MPO):\n",
    "\n",
    "    #select tensr\n",
    "    total_params=0\n",
    "    for tensor in MPO:\n",
    "\n",
    "        #tensor params \n",
    "        x,y,z,t=np.shape(tensor)\n",
    "        tensor_params=x*y*z*t\n",
    "        total_params+=tensor_params\n",
    "\n",
    "\n",
    "    return total_params\n",
    "           "
   ]
  },
  {
   "cell_type": "markdown",
   "metadata": {},
   "source": [
    "## Recompose weights matrix"
   ]
  },
  {
   "cell_type": "code",
   "execution_count": 11,
   "metadata": {},
   "outputs": [],
   "source": [
    "def contract_MPO(MPO):\n",
    "    temp=np.ones((1,1,1,1))\n",
    "    for i in range(len(MPO)):\n",
    "    \n",
    "        #print(np.shape(temp))\n",
    "        #left operator\n",
    "        x,y,z,t=np.shape(temp)\n",
    "    \n",
    "        #store RIGHT operator\n",
    "        op=MPO[i]; x1,y1,z1,t1=np.shape(op);\n",
    "    \n",
    "        #contract\n",
    "        mat=np.tensordot(temp,op,axes=([3,0]))\n",
    "        \n",
    "        #print(np.shape(mat))\n",
    "    \n",
    "        #transpose\n",
    "        mat=np.transpose(mat,(0,1,3,2,4,5))\n",
    "        #print(np.shape(mat))\n",
    "        left,top1,top2,bottom1,bottom2,right=np.shape(mat)\n",
    "    \n",
    "        #get shapes \n",
    "        mat=np.reshape(mat,(left,top1*top2,bottom1*bottom2,right))\n",
    "        #print(np.shape(mat))\n",
    "    \n",
    "        #update \n",
    "        temp=mat\n",
    "        #print(\"!\",np.shape(temp))\n",
    "    \n",
    "    \n",
    "    x,y,z,t=np.shape(temp)\n",
    "    \n",
    "    final=np.reshape(temp,(x*y,z*t))\n",
    "    #print(np.shape(final))\n",
    "\n",
    "    return final\n",
    "\n",
    "\n",
    "final=contract_MPO(MPO)"
   ]
  },
  {
   "cell_type": "code",
   "execution_count": null,
   "metadata": {
    "scrolled": true
   },
   "outputs": [
    {
     "name": "stdout",
     "output_type": "stream",
     "text": [
      "Epoch 1/100\n",
      "\u001b[1m16/16\u001b[0m \u001b[32m━━━━━━━━━━━━━━━━━━━━\u001b[0m\u001b[37m\u001b[0m \u001b[1m1s\u001b[0m 17ms/step - binary_accuracy: 0.5141 - loss: 0.6968 - val_binary_accuracy: 0.5140 - val_loss: 0.6813\n",
      "Epoch 2/100\n",
      "\u001b[1m16/16\u001b[0m \u001b[32m━━━━━━━━━━━━━━━━━━━━\u001b[0m\u001b[37m\u001b[0m \u001b[1m0s\u001b[0m 6ms/step - binary_accuracy: 0.4857 - loss: 0.6701 - val_binary_accuracy: 0.5140 - val_loss: 0.6610\n",
      "Epoch 3/100\n",
      "\u001b[1m16/16\u001b[0m \u001b[32m━━━━━━━━━━━━━━━━━━━━\u001b[0m\u001b[37m\u001b[0m \u001b[1m0s\u001b[0m 6ms/step - binary_accuracy: 0.4924 - loss: 0.6431 - val_binary_accuracy: 0.5140 - val_loss: 0.6417\n",
      "Epoch 4/100\n",
      "\u001b[1m16/16\u001b[0m \u001b[32m━━━━━━━━━━━━━━━━━━━━\u001b[0m\u001b[37m\u001b[0m \u001b[1m0s\u001b[0m 7ms/step - binary_accuracy: 0.5157 - loss: 0.6182 - val_binary_accuracy: 0.5140 - val_loss: 0.6194\n",
      "Epoch 5/100\n",
      "\u001b[1m16/16\u001b[0m \u001b[32m━━━━━━━━━━━━━━━━━━━━\u001b[0m\u001b[37m\u001b[0m \u001b[1m0s\u001b[0m 6ms/step - binary_accuracy: 0.5566 - loss: 0.5837 - val_binary_accuracy: 0.5320 - val_loss: 0.5953\n",
      "Epoch 6/100\n",
      "\u001b[1m16/16\u001b[0m \u001b[32m━━━━━━━━━━━━━━━━━━━━\u001b[0m\u001b[37m\u001b[0m \u001b[1m0s\u001b[0m 6ms/step - binary_accuracy: 0.5907 - loss: 0.5594 - val_binary_accuracy: 0.5680 - val_loss: 0.5659\n",
      "Epoch 7/100\n",
      "\u001b[1m16/16\u001b[0m \u001b[32m━━━━━━━━━━━━━━━━━━━━\u001b[0m\u001b[37m\u001b[0m \u001b[1m0s\u001b[0m 8ms/step - binary_accuracy: 0.6827 - loss: 0.5216 - val_binary_accuracy: 0.5740 - val_loss: 0.5418\n",
      "Epoch 8/100\n",
      "\u001b[1m16/16\u001b[0m \u001b[32m━━━━━━━━━━━━━━━━━━━━\u001b[0m\u001b[37m\u001b[0m \u001b[1m0s\u001b[0m 6ms/step - binary_accuracy: 0.7248 - loss: 0.4844 - val_binary_accuracy: 0.6520 - val_loss: 0.5075\n",
      "Epoch 9/100\n",
      "\u001b[1m16/16\u001b[0m \u001b[32m━━━━━━━━━━━━━━━━━━━━\u001b[0m\u001b[37m\u001b[0m \u001b[1m0s\u001b[0m 6ms/step - binary_accuracy: 0.7585 - loss: 0.4624 - val_binary_accuracy: 0.6540 - val_loss: 0.4836\n",
      "Epoch 10/100\n",
      "\u001b[1m16/16\u001b[0m \u001b[32m━━━━━━━━━━━━━━━━━━━━\u001b[0m\u001b[37m\u001b[0m \u001b[1m0s\u001b[0m 4ms/step - binary_accuracy: 0.8111 - loss: 0.4123 - val_binary_accuracy: 0.7300 - val_loss: 0.4524\n",
      "Epoch 11/100\n",
      "\u001b[1m16/16\u001b[0m \u001b[32m━━━━━━━━━━━━━━━━━━━━\u001b[0m\u001b[37m\u001b[0m \u001b[1m0s\u001b[0m 5ms/step - binary_accuracy: 0.8496 - loss: 0.3833 - val_binary_accuracy: 0.7360 - val_loss: 0.4311\n",
      "Epoch 12/100\n",
      "\u001b[1m16/16\u001b[0m \u001b[32m━━━━━━━━━━━━━━━━━━━━\u001b[0m\u001b[37m\u001b[0m \u001b[1m0s\u001b[0m 5ms/step - binary_accuracy: 0.8596 - loss: 0.3667 - val_binary_accuracy: 0.7680 - val_loss: 0.4103\n",
      "Epoch 13/100\n",
      "\u001b[1m16/16\u001b[0m \u001b[32m━━━━━━━━━━━━━━━━━━━━\u001b[0m\u001b[37m\u001b[0m \u001b[1m0s\u001b[0m 5ms/step - binary_accuracy: 0.8944 - loss: 0.3349 - val_binary_accuracy: 0.7820 - val_loss: 0.3918\n",
      "Epoch 14/100\n",
      "\u001b[1m16/16\u001b[0m \u001b[32m━━━━━━━━━━━━━━━━━━━━\u001b[0m\u001b[37m\u001b[0m \u001b[1m0s\u001b[0m 4ms/step - binary_accuracy: 0.8807 - loss: 0.3157 - val_binary_accuracy: 0.7880 - val_loss: 0.3763\n",
      "Epoch 15/100\n",
      "\u001b[1m16/16\u001b[0m \u001b[32m━━━━━━━━━━━━━━━━━━━━\u001b[0m\u001b[37m\u001b[0m \u001b[1m0s\u001b[0m 4ms/step - binary_accuracy: 0.8861 - loss: 0.2939 - val_binary_accuracy: 0.8100 - val_loss: 0.3602\n",
      "Epoch 16/100\n",
      "\u001b[1m16/16\u001b[0m \u001b[32m━━━━━━━━━━━━━━━━━━━━\u001b[0m\u001b[37m\u001b[0m \u001b[1m0s\u001b[0m 4ms/step - binary_accuracy: 0.9087 - loss: 0.2734 - val_binary_accuracy: 0.8340 - val_loss: 0.3452\n",
      "Epoch 17/100\n",
      "\u001b[1m16/16\u001b[0m \u001b[32m━━━━━━━━━━━━━━━━━━━━\u001b[0m\u001b[37m\u001b[0m \u001b[1m0s\u001b[0m 4ms/step - binary_accuracy: 0.8911 - loss: 0.2701 - val_binary_accuracy: 0.8480 - val_loss: 0.3350\n",
      "Epoch 18/100\n",
      "\u001b[1m16/16\u001b[0m \u001b[32m━━━━━━━━━━━━━━━━━━━━\u001b[0m\u001b[37m\u001b[0m \u001b[1m0s\u001b[0m 4ms/step - binary_accuracy: 0.8780 - loss: 0.2729 - val_binary_accuracy: 0.8620 - val_loss: 0.3244\n",
      "Epoch 19/100\n",
      "\u001b[1m16/16\u001b[0m \u001b[32m━━━━━━━━━━━━━━━━━━━━\u001b[0m\u001b[37m\u001b[0m \u001b[1m0s\u001b[0m 4ms/step - binary_accuracy: 0.8931 - loss: 0.2511 - val_binary_accuracy: 0.8520 - val_loss: 0.3197\n",
      "Epoch 20/100\n",
      "\u001b[1m16/16\u001b[0m \u001b[32m━━━━━━━━━━━━━━━━━━━━\u001b[0m\u001b[37m\u001b[0m \u001b[1m0s\u001b[0m 4ms/step - binary_accuracy: 0.9146 - loss: 0.2352 - val_binary_accuracy: 0.8680 - val_loss: 0.3104\n",
      "Epoch 21/100\n",
      "\u001b[1m16/16\u001b[0m \u001b[32m━━━━━━━━━━━━━━━━━━━━\u001b[0m\u001b[37m\u001b[0m \u001b[1m0s\u001b[0m 4ms/step - binary_accuracy: 0.9121 - loss: 0.2246 - val_binary_accuracy: 0.8740 - val_loss: 0.3043\n",
      "Epoch 22/100\n",
      "\u001b[1m16/16\u001b[0m \u001b[32m━━━━━━━━━━━━━━━━━━━━\u001b[0m\u001b[37m\u001b[0m \u001b[1m0s\u001b[0m 4ms/step - binary_accuracy: 0.9307 - loss: 0.2059 - val_binary_accuracy: 0.8900 - val_loss: 0.2961\n",
      "Epoch 23/100\n",
      "\u001b[1m16/16\u001b[0m \u001b[32m━━━━━━━━━━━━━━━━━━━━\u001b[0m\u001b[37m\u001b[0m \u001b[1m0s\u001b[0m 4ms/step - binary_accuracy: 0.9114 - loss: 0.2305 - val_binary_accuracy: 0.8840 - val_loss: 0.2941\n",
      "Epoch 24/100\n",
      "\u001b[1m16/16\u001b[0m \u001b[32m━━━━━━━━━━━━━━━━━━━━\u001b[0m\u001b[37m\u001b[0m \u001b[1m0s\u001b[0m 4ms/step - binary_accuracy: 0.9261 - loss: 0.2054 - val_binary_accuracy: 0.8940 - val_loss: 0.2870\n",
      "Epoch 25/100\n",
      "\u001b[1m16/16\u001b[0m \u001b[32m━━━━━━━━━━━━━━━━━━━━\u001b[0m\u001b[37m\u001b[0m \u001b[1m0s\u001b[0m 4ms/step - binary_accuracy: 0.9345 - loss: 0.1901 - val_binary_accuracy: 0.8800 - val_loss: 0.2895\n",
      "Epoch 26/100\n",
      "\u001b[1m16/16\u001b[0m \u001b[32m━━━━━━━━━━━━━━━━━━━━\u001b[0m\u001b[37m\u001b[0m \u001b[1m0s\u001b[0m 4ms/step - binary_accuracy: 0.9286 - loss: 0.1833 - val_binary_accuracy: 0.8880 - val_loss: 0.2833\n",
      "Epoch 27/100\n",
      "\u001b[1m16/16\u001b[0m \u001b[32m━━━━━━━━━━━━━━━━━━━━\u001b[0m\u001b[37m\u001b[0m \u001b[1m0s\u001b[0m 4ms/step - binary_accuracy: 0.9105 - loss: 0.2033 - val_binary_accuracy: 0.8900 - val_loss: 0.2815\n",
      "Epoch 28/100\n"
     ]
    }
   ],
   "source": [
    "#bond_dims=[60,40,30,20,17,15,13,12,11,10,9,8,7,6,5,4]\n",
    "bond_dims=np.arange(60,5,-1)\n",
    "\n",
    "model = tf.keras.models.Sequential([\n",
    "  tf.keras.layers.Flatten(input_shape=(size,size)),\n",
    "  tf.keras.layers.Dense(128, activation='relu'),\n",
    "  tf.keras.layers.Dense(1)\n",
    "])\n",
    "model.compile(\n",
    "    optimizer=tf.keras.optimizers.Adam(0.001),\n",
    "    loss=tf.keras.losses.BinaryCrossentropy(from_logits=True),\n",
    "    metrics=[tf.keras.metrics.BinaryAccuracy()],\n",
    ")\n",
    "\n",
    "#train the model\n",
    "model.fit(x_train, y_train, epochs=100,validation_data=test)\n",
    "\n",
    "# Evaluate the model on the test data using `evaluate`\n",
    "print(\"Initial: Evaluate on test data\")\n",
    "original_loss, original_acc = model.evaluate(x_test, y_test, batch_size=128)\n",
    "print(\"test loss, test acc:\", original_loss,original_acc)\n",
    "\n",
    "#get the weights \n",
    "weights=model.weights[0]\n",
    "\n",
    "full_params=np.shape(weights)[0]*np.shape(weights)[1]\n",
    "\n",
    "test_losses=[];test_accs=[];n_params=[]\n",
    "for bd in bond_dims:\n",
    "\n",
    "    #create MPO\n",
    "    MPO,S,S_cut=MPO_from_mat(weights,up_legs,down_legs,bonds,bd_cut=bd,verbose=False)\n",
    "\n",
    "    #compute params\n",
    "    params=count_params(MPO)\n",
    "    n_params.append(params)\n",
    "    \n",
    "\n",
    "    #recontract MPO\n",
    "    final=contract_MPO(MPO)\n",
    "\n",
    "    #reload the weights\n",
    "    bias=model.layers[1].weights[1]\n",
    "    model.layers[1].set_weights([final,bias])\n",
    "    \n",
    "    # Evaluate the model on the test data using `evaluate`\n",
    "    print(f\"Evaluate on test data wiht bd {bd}\")\n",
    "    results = model.evaluate(x_test, y_test, batch_size=128)\n",
    "    print(\"test loss, test acc:\", results)\n",
    "\n",
    "    #store\n",
    "    test_losses.append(results[0])\n",
    "    test_accs.append(results[1])"
   ]
  },
  {
   "cell_type": "markdown",
   "metadata": {},
   "source": [
    "## Accuracy and Loss Plots"
   ]
  },
  {
   "cell_type": "code",
   "execution_count": null,
   "metadata": {},
   "outputs": [],
   "source": [
    "from matplotlib import pyplot as plt\n",
    "\n",
    "plt.figure(1)\n",
    "plt.title(f\"NN Accuracy after MPO compression\")\n",
    "x=np.arange(min(bond_dims),max(bond_dims))\n",
    "\n",
    "plt.plot(bond_dims,test_accs,marker=\".\",color=\"forestgreen\",label=\"MPO Compression\")\n",
    "plt.plot(x,np.repeat(original_acc,len(x)),color=\"firebrick\",label=\"Original Accuracy\")\n",
    "plt.grid()\n",
    "plt.legend(loc=\"lower right\")\n",
    "plt.ylabel(\"Test Accuracy\")\n",
    "plt.xlabel(\"Bond Dimension cuts\")\n",
    "plt.savefig(\"./accuracy_vs_bd.png\")\n",
    "plt.show()"
   ]
  },
  {
   "cell_type": "code",
   "execution_count": null,
   "metadata": {},
   "outputs": [],
   "source": [
    "plt.figure(2)\n",
    "plt.title(f\"NN Loss after MPO compression\")\n",
    "x=np.arange(min(bond_dims),max(bond_dims))\n",
    "plt.plot(bond_dims,test_losses,marker=\".\",color=\"forestgreen\",label=\"MPO Compression\")\n",
    "plt.plot(x,np.repeat(original_loss,len(x)),color=\"firebrick\",label=\"Original Loss\")\n",
    "plt.grid()\n",
    "plt.legend(loc=\"upper right\")\n",
    "plt.ylabel(\"Test Loss\")\n",
    "plt.xlabel(\"Bond Dimension cuts\")\n",
    "plt.savefig(\"./loss_vs_bd.png\")\n",
    "plt.show()"
   ]
  },
  {
   "cell_type": "markdown",
   "metadata": {},
   "source": [
    "## Number of parameters\n"
   ]
  },
  {
   "cell_type": "code",
   "execution_count": 49,
   "metadata": {},
   "outputs": [
    {
     "data": {
      "image/png": "[encoded data removed]",
      "text/plain": [
       "<Figure size 640x480 with 2 Axes>"
      ]
     },
     "metadata": {},
     "output_type": "display_data"
    }
   ],
   "source": [
    "memory=[elem*32/(8*1000) for elem in n_params] #kB\n",
    "\n",
    "fig, ax1 = plt.subplots()\n",
    "ax1.set_title(\"Parameters stored in MPO\")\n",
    "ax2 = ax1.twinx()\n",
    "ax1.bar(bond_dims,np.array(n_params),color=\"forestgreen\")\n",
    "ax2.bar(bond_dims,np.array(memory),color=\"forestgreen\")\n",
    "\n",
    "\n",
    "ax1.set_xlabel(\"Bond dimension cuts\")\n",
    "ax1.set_ylabel(\"N° Parameters\")\n",
    "ax2.set_ylabel(\"Memory [kB]\")\n",
    "plt.savefig(\"./parameters.png\")\n",
    "plt.grid()\n",
    "plt.show()\n"
   ]
  },
  {
   "cell_type": "code",
   "execution_count": null,
   "metadata": {},
   "outputs": [],
   "source": []
  }
 ],
 "metadata": {
  "kernelspec": {
   "display_name": "Python 3 (ipykernel)",
   "language": "python",
   "name": "python3"
  },
  "language_info": {
   "codemirror_mode": {
    "name": "ipython",
    "version": 3
   },
   "file_extension": ".py",
   "mimetype": "text/x-python",
   "name": "python",
   "nbconvert_exporter": "python",
   "pygments_lexer": "ipython3",
   "version": "3.11.7"
  }
 },
 "nbformat": 4,
 "nbformat_minor": 4
}
