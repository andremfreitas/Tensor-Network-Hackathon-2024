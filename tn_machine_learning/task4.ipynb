{
 "cells": [
  {
   "cell_type": "markdown",
   "metadata": {},
   "source": [
    "## Classification of MNIST dataset with tensor networks"
   ]
  },
  {
   "cell_type": "code",
   "execution_count": 1,
   "metadata": {},
   "outputs": [
    {
     "name": "stderr",
     "output_type": "stream",
     "text": [
      "2024-05-23 12:31:00.934434: I tensorflow/core/util/port.cc:110] oneDNN custom operations are on. You may see slightly different numerical results due to floating-point round-off errors from different computation orders. To turn them off, set the environment variable `TF_ENABLE_ONEDNN_OPTS=0`.\n",
      "2024-05-23 12:31:00.936092: I tensorflow/tsl/cuda/cudart_stub.cc:28] Could not find cuda drivers on your machine, GPU will not be used.\n",
      "2024-05-23 12:31:00.967849: I tensorflow/tsl/cuda/cudart_stub.cc:28] Could not find cuda drivers on your machine, GPU will not be used.\n",
      "2024-05-23 12:31:00.968839: I tensorflow/core/platform/cpu_feature_guard.cc:182] This TensorFlow binary is optimized to use available CPU instructions in performance-critical operations.\n",
      "To enable the following instructions: AVX2 AVX_VNNI FMA, in other operations, rebuild TensorFlow with the appropriate compiler flags.\n",
      "2024-05-23 12:31:01.470665: W tensorflow/compiler/tf2tensorrt/utils/py_utils.cc:38] TF-TRT Warning: Could not find TensorRT\n"
     ]
    }
   ],
   "source": [
    "# import packages here\n",
    "# --------------------------------------\n",
    "import matplotlib.pyplot as plt\n",
    "\n",
    "import qtealeaves as qtl\n",
    "from qtealeaves.convergence_parameters.conv_params import TNConvergenceParameters\n",
    "from qtealeaves.emulator.mps_simulator import MPS\n",
    "from qtealeaves.emulator import StateVector\n",
    "\n",
    "from tensorflow.keras.datasets import mnist\n",
    "import numpy as np\n"
   ]
  },
  {
   "cell_type": "markdown",
   "metadata": {},
   "source": [
    "### Load MNIST dataset"
   ]
  },
  {
   "cell_type": "code",
   "execution_count": 2,
   "metadata": {},
   "outputs": [
    {
     "name": "stdout",
     "output_type": "stream",
     "text": [
      "(60000, 28, 28)\n",
      "(10000, 28, 28)\n"
     ]
    }
   ],
   "source": [
    "# Load dataset here\n",
    "# --------------------------------------\n",
    "(x_train, y_train), (x_test, y_test) = mnist.load_data()\n",
    "print(x_train.shape)\n",
    "print(x_test.shape)\n"
   ]
  },
  {
   "cell_type": "code",
   "execution_count": 3,
   "metadata": {},
   "outputs": [],
   "source": [
    "# Selecting only images with the numbers 3 and 8\n",
    "train_filter = np.where((y_train == 3 ) | (y_train == 8))\n",
    "test_filter = np.where((y_test == 3) | (y_test == 8))\n",
    "\n",
    "x_train, y_train = x_train[train_filter], y_train[train_filter]\n",
    "x_test, y_test = x_test[test_filter], y_test[test_filter]\n",
    "\n",
    "train_idxs_3 = np.where(y_train == 3)\n",
    "train_idxs_8 = np.where(y_train == 8)\n",
    "test_idxs_3 = np.where(y_test == 3)\n",
    "test_idxs_8 = np.where(y_test == 8)\n",
    "\n",
    "y_train[train_idxs_3] = 0\n",
    "y_train[train_idxs_8] = 1\n",
    "y_test[test_idxs_3] = 0\n",
    "y_test[test_idxs_8] = 1\n",
    "\n",
    "# Reduce amount of images\n",
    "nr_images = 100\n",
    "nr_images_test = nr_images * 100\n",
    "x_train, y_train, x_test, y_test = x_train[:nr_images, :, :], y_train[:nr_images], x_test[:nr_images_test, :, :], y_test[:nr_images_test]\n",
    "\n",
    "x_train = x_train / 255\n",
    "x_test = x_test / 255\n",
    "\n",
    "np.random.seed(42)\n",
    "x_train = np.random.RandomState(seed=42).permutation(x_train)\n",
    "y_train = np.random.RandomState(seed=42).permutation(y_train)\n",
    "x_test = np.random.RandomState(seed=42).permutation(x_test)\n",
    "y_test = np.random.RandomState(seed=42).permutation(y_test)"
   ]
  },
  {
   "cell_type": "code",
   "execution_count": 4,
   "metadata": {},
   "outputs": [
    {
     "name": "stdout",
     "output_type": "stream",
     "text": [
      "0\n"
     ]
    },
    {
     "data": {
      "image/png": "[encoded data removed]",
      "text/plain": [
       "<Figure size 640x480 with 1 Axes>"
      ]
     },
     "metadata": {},
     "output_type": "display_data"
    }
   ],
   "source": [
    "import matplotlib.pyplot as plt\n",
    "\n",
    "plt.imshow(x_train[0, :, :])\n",
    "print(y_train[0])"
   ]
  },
  {
   "cell_type": "code",
   "execution_count": 5,
   "metadata": {},
   "outputs": [
    {
     "data": {
      "text/plain": [
       "<matplotlib.image.AxesImage at 0x7f0961e34610>"
      ]
     },
     "execution_count": 5,
     "metadata": {},
     "output_type": "execute_result"
    },
    {
     "data": {
      "image/png": "[encoded data removed]",
      "text/plain": [
       "<Figure size 640x480 with 1 Axes>"
      ]
     },
     "metadata": {},
     "output_type": "display_data"
    }
   ],
   "source": [
    "import skimage.measure\n",
    "\n",
    "x_train = skimage.measure.block_reduce(x_train, (1,7, 7), np.mean)\n",
    "x_test = skimage.measure.block_reduce(x_test, (1,7,7), np.mean)\n",
    "\n",
    "plt.imshow(x_train[0, :, :])\n",
    "\n",
    "\n"
   ]
  },
  {
   "cell_type": "code",
   "execution_count": 6,
   "metadata": {},
   "outputs": [
    {
     "name": "stdout",
     "output_type": "stream",
     "text": [
      "Epoch 1/100\n"
     ]
    },
    {
     "name": "stderr",
     "output_type": "stream",
     "text": [
      "2024-05-23 12:31:02.887456: I tensorflow/compiler/xla/stream_executor/cuda/cuda_gpu_executor.cc:981] could not open file to read NUMA node: /sys/bus/pci/devices/0000:01:00.0/numa_node\n",
      "Your kernel may have been built without NUMA support.\n",
      "2024-05-23 12:31:02.889784: W tensorflow/core/common_runtime/gpu/gpu_device.cc:1960] Cannot dlopen some GPU libraries. Please make sure the missing libraries mentioned above are installed properly if you would like to use GPU. Follow the guide at https://www.tensorflow.org/install/gpu for how to download and setup the required libraries for your platform.\n",
      "Skipping registering GPU devices...\n"
     ]
    },
    {
     "name": "stdout",
     "output_type": "stream",
     "text": [
      "4/4 [==============================] - 1s 63ms/step - loss: 0.6989 - binary_accuracy: 0.5500 - val_loss: 0.7001 - val_binary_accuracy: 0.5091\n",
      "Epoch 2/100\n",
      "4/4 [==============================] - 0s 25ms/step - loss: 0.6904 - binary_accuracy: 0.5500 - val_loss: 0.6935 - val_binary_accuracy: 0.5091\n",
      "Epoch 3/100\n",
      "4/4 [==============================] - 0s 26ms/step - loss: 0.6827 - binary_accuracy: 0.5500 - val_loss: 0.6871 - val_binary_accuracy: 0.5091\n",
      "Epoch 4/100\n",
      "4/4 [==============================] - 0s 24ms/step - loss: 0.6744 - binary_accuracy: 0.5500 - val_loss: 0.6805 - val_binary_accuracy: 0.5091\n",
      "Epoch 5/100\n",
      "4/4 [==============================] - 0s 22ms/step - loss: 0.6664 - binary_accuracy: 0.5500 - val_loss: 0.6740 - val_binary_accuracy: 0.5091\n",
      "Epoch 6/100\n",
      "4/4 [==============================] - 0s 26ms/step - loss: 0.6591 - binary_accuracy: 0.5500 - val_loss: 0.6674 - val_binary_accuracy: 0.5091\n",
      "Epoch 7/100\n",
      "4/4 [==============================] - 0s 26ms/step - loss: 0.6512 - binary_accuracy: 0.5500 - val_loss: 0.6608 - val_binary_accuracy: 0.5091\n",
      "Epoch 8/100\n",
      "4/4 [==============================] - 0s 24ms/step - loss: 0.6428 - binary_accuracy: 0.5500 - val_loss: 0.6545 - val_binary_accuracy: 0.5091\n",
      "Epoch 9/100\n",
      "4/4 [==============================] - 0s 24ms/step - loss: 0.6345 - binary_accuracy: 0.5500 - val_loss: 0.6477 - val_binary_accuracy: 0.5091\n",
      "Epoch 10/100\n",
      "4/4 [==============================] - 0s 23ms/step - loss: 0.6264 - binary_accuracy: 0.5500 - val_loss: 0.6408 - val_binary_accuracy: 0.5091\n",
      "Epoch 11/100\n",
      "4/4 [==============================] - 0s 26ms/step - loss: 0.6183 - binary_accuracy: 0.5500 - val_loss: 0.6343 - val_binary_accuracy: 0.5091\n",
      "Epoch 12/100\n",
      "4/4 [==============================] - 0s 24ms/step - loss: 0.6105 - binary_accuracy: 0.5500 - val_loss: 0.6294 - val_binary_accuracy: 0.5091\n",
      "Epoch 13/100\n",
      "4/4 [==============================] - 0s 27ms/step - loss: 0.6019 - binary_accuracy: 0.5500 - val_loss: 0.6235 - val_binary_accuracy: 0.5091\n",
      "Epoch 14/100\n",
      "4/4 [==============================] - 0s 25ms/step - loss: 0.5939 - binary_accuracy: 0.5500 - val_loss: 0.6169 - val_binary_accuracy: 0.5091\n",
      "Epoch 15/100\n",
      "4/4 [==============================] - 0s 24ms/step - loss: 0.5855 - binary_accuracy: 0.5500 - val_loss: 0.6119 - val_binary_accuracy: 0.5091\n",
      "Epoch 16/100\n",
      "4/4 [==============================] - 0s 24ms/step - loss: 0.5781 - binary_accuracy: 0.5500 - val_loss: 0.6056 - val_binary_accuracy: 0.5101\n",
      "Epoch 17/100\n",
      "4/4 [==============================] - 0s 23ms/step - loss: 0.5705 - binary_accuracy: 0.5500 - val_loss: 0.6009 - val_binary_accuracy: 0.5101\n",
      "Epoch 18/100\n",
      "4/4 [==============================] - 0s 24ms/step - loss: 0.5647 - binary_accuracy: 0.5500 - val_loss: 0.5964 - val_binary_accuracy: 0.5111\n",
      "Epoch 19/100\n",
      "4/4 [==============================] - 0s 24ms/step - loss: 0.5569 - binary_accuracy: 0.5500 - val_loss: 0.5896 - val_binary_accuracy: 0.5141\n",
      "Epoch 20/100\n",
      "4/4 [==============================] - 0s 22ms/step - loss: 0.5484 - binary_accuracy: 0.5600 - val_loss: 0.5812 - val_binary_accuracy: 0.5207\n",
      "Epoch 21/100\n",
      "4/4 [==============================] - 0s 25ms/step - loss: 0.5395 - binary_accuracy: 0.5600 - val_loss: 0.5717 - val_binary_accuracy: 0.5348\n",
      "Epoch 22/100\n",
      "4/4 [==============================] - 0s 24ms/step - loss: 0.5298 - binary_accuracy: 0.5600 - val_loss: 0.5622 - val_binary_accuracy: 0.5600\n",
      "Epoch 23/100\n",
      "4/4 [==============================] - 0s 24ms/step - loss: 0.5218 - binary_accuracy: 0.5900 - val_loss: 0.5534 - val_binary_accuracy: 0.5917\n",
      "Epoch 24/100\n",
      "4/4 [==============================] - 0s 22ms/step - loss: 0.5151 - binary_accuracy: 0.6400 - val_loss: 0.5457 - val_binary_accuracy: 0.6240\n",
      "Epoch 25/100\n",
      "4/4 [==============================] - 0s 23ms/step - loss: 0.5080 - binary_accuracy: 0.7000 - val_loss: 0.5383 - val_binary_accuracy: 0.6396\n",
      "Epoch 26/100\n",
      "4/4 [==============================] - 0s 25ms/step - loss: 0.4987 - binary_accuracy: 0.7000 - val_loss: 0.5315 - val_binary_accuracy: 0.6366\n",
      "Epoch 27/100\n",
      "4/4 [==============================] - 0s 22ms/step - loss: 0.4895 - binary_accuracy: 0.7000 - val_loss: 0.5244 - val_binary_accuracy: 0.6431\n",
      "Epoch 28/100\n",
      "4/4 [==============================] - 0s 23ms/step - loss: 0.4809 - binary_accuracy: 0.7100 - val_loss: 0.5180 - val_binary_accuracy: 0.6416\n",
      "Epoch 29/100\n",
      "4/4 [==============================] - 0s 22ms/step - loss: 0.4729 - binary_accuracy: 0.7100 - val_loss: 0.5122 - val_binary_accuracy: 0.6381\n",
      "Epoch 30/100\n",
      "4/4 [==============================] - 0s 21ms/step - loss: 0.4642 - binary_accuracy: 0.7100 - val_loss: 0.5056 - val_binary_accuracy: 0.6462\n",
      "Epoch 31/100\n",
      "4/4 [==============================] - 0s 21ms/step - loss: 0.4560 - binary_accuracy: 0.7200 - val_loss: 0.4977 - val_binary_accuracy: 0.6633\n",
      "Epoch 32/100\n",
      "4/4 [==============================] - 0s 23ms/step - loss: 0.4474 - binary_accuracy: 0.7400 - val_loss: 0.4903 - val_binary_accuracy: 0.6774\n",
      "Epoch 33/100\n",
      "4/4 [==============================] - 0s 22ms/step - loss: 0.4389 - binary_accuracy: 0.7300 - val_loss: 0.4833 - val_binary_accuracy: 0.6860\n",
      "Epoch 34/100\n",
      "4/4 [==============================] - 0s 23ms/step - loss: 0.4304 - binary_accuracy: 0.7400 - val_loss: 0.4760 - val_binary_accuracy: 0.7001\n",
      "Epoch 35/100\n",
      "4/4 [==============================] - 0s 23ms/step - loss: 0.4215 - binary_accuracy: 0.7700 - val_loss: 0.4684 - val_binary_accuracy: 0.7152\n",
      "Epoch 36/100\n",
      "4/4 [==============================] - 0s 21ms/step - loss: 0.4133 - binary_accuracy: 0.8000 - val_loss: 0.4617 - val_binary_accuracy: 0.7243\n",
      "Epoch 37/100\n",
      "4/4 [==============================] - 0s 22ms/step - loss: 0.4055 - binary_accuracy: 0.8200 - val_loss: 0.4541 - val_binary_accuracy: 0.7419\n",
      "Epoch 38/100\n",
      "4/4 [==============================] - 0s 22ms/step - loss: 0.3970 - binary_accuracy: 0.8300 - val_loss: 0.4470 - val_binary_accuracy: 0.7525\n",
      "Epoch 39/100\n",
      "4/4 [==============================] - 0s 21ms/step - loss: 0.3887 - binary_accuracy: 0.8500 - val_loss: 0.4403 - val_binary_accuracy: 0.7611\n",
      "Epoch 40/100\n",
      "4/4 [==============================] - 0s 34ms/step - loss: 0.3807 - binary_accuracy: 0.8500 - val_loss: 0.4333 - val_binary_accuracy: 0.7747\n",
      "Epoch 41/100\n",
      "4/4 [==============================] - 0s 23ms/step - loss: 0.3730 - binary_accuracy: 0.8700 - val_loss: 0.4257 - val_binary_accuracy: 0.7913\n",
      "Epoch 42/100\n",
      "4/4 [==============================] - 0s 23ms/step - loss: 0.3648 - binary_accuracy: 0.8700 - val_loss: 0.4190 - val_binary_accuracy: 0.7974\n",
      "Epoch 43/100\n",
      "4/4 [==============================] - 0s 22ms/step - loss: 0.3572 - binary_accuracy: 0.8800 - val_loss: 0.4128 - val_binary_accuracy: 0.7959\n",
      "Epoch 44/100\n",
      "4/4 [==============================] - 0s 21ms/step - loss: 0.3499 - binary_accuracy: 0.8800 - val_loss: 0.4066 - val_binary_accuracy: 0.8009\n",
      "Epoch 45/100\n",
      "4/4 [==============================] - 0s 21ms/step - loss: 0.3428 - binary_accuracy: 0.8800 - val_loss: 0.3999 - val_binary_accuracy: 0.8211\n",
      "Epoch 46/100\n",
      "4/4 [==============================] - 0s 20ms/step - loss: 0.3358 - binary_accuracy: 0.9000 - val_loss: 0.3942 - val_binary_accuracy: 0.8201\n",
      "Epoch 47/100\n",
      "4/4 [==============================] - 0s 22ms/step - loss: 0.3296 - binary_accuracy: 0.8900 - val_loss: 0.3896 - val_binary_accuracy: 0.8150\n",
      "Epoch 48/100\n",
      "4/4 [==============================] - 0s 21ms/step - loss: 0.3245 - binary_accuracy: 0.8800 - val_loss: 0.3860 - val_binary_accuracy: 0.8014\n",
      "Epoch 49/100\n",
      "4/4 [==============================] - 0s 21ms/step - loss: 0.3178 - binary_accuracy: 0.8800 - val_loss: 0.3796 - val_binary_accuracy: 0.8175\n",
      "Epoch 50/100\n",
      "4/4 [==============================] - 0s 20ms/step - loss: 0.3115 - binary_accuracy: 0.9000 - val_loss: 0.3729 - val_binary_accuracy: 0.8448\n",
      "Epoch 51/100\n",
      "4/4 [==============================] - 0s 21ms/step - loss: 0.3052 - binary_accuracy: 0.9300 - val_loss: 0.3679 - val_binary_accuracy: 0.8695\n",
      "Epoch 52/100\n",
      "4/4 [==============================] - 0s 22ms/step - loss: 0.3020 - binary_accuracy: 0.9300 - val_loss: 0.3635 - val_binary_accuracy: 0.8831\n",
      "Epoch 53/100\n",
      "4/4 [==============================] - 0s 22ms/step - loss: 0.2963 - binary_accuracy: 0.9300 - val_loss: 0.3583 - val_binary_accuracy: 0.8770\n",
      "Epoch 54/100\n",
      "4/4 [==============================] - 0s 21ms/step - loss: 0.2905 - binary_accuracy: 0.9300 - val_loss: 0.3539 - val_binary_accuracy: 0.8624\n",
      "Epoch 55/100\n",
      "4/4 [==============================] - 0s 21ms/step - loss: 0.2846 - binary_accuracy: 0.9300 - val_loss: 0.3500 - val_binary_accuracy: 0.8584\n",
      "Epoch 56/100\n",
      "4/4 [==============================] - 0s 22ms/step - loss: 0.2799 - binary_accuracy: 0.9200 - val_loss: 0.3458 - val_binary_accuracy: 0.8599\n",
      "Epoch 57/100\n",
      "4/4 [==============================] - 0s 23ms/step - loss: 0.2753 - binary_accuracy: 0.9300 - val_loss: 0.3414 - val_binary_accuracy: 0.8639\n",
      "Epoch 58/100\n",
      "4/4 [==============================] - 0s 21ms/step - loss: 0.2705 - binary_accuracy: 0.9300 - val_loss: 0.3375 - val_binary_accuracy: 0.8644\n",
      "Epoch 59/100\n",
      "4/4 [==============================] - 0s 21ms/step - loss: 0.2662 - binary_accuracy: 0.9300 - val_loss: 0.3338 - val_binary_accuracy: 0.8644\n",
      "Epoch 60/100\n",
      "4/4 [==============================] - 0s 21ms/step - loss: 0.2619 - binary_accuracy: 0.9300 - val_loss: 0.3303 - val_binary_accuracy: 0.8649\n",
      "Epoch 61/100\n",
      "4/4 [==============================] - 0s 21ms/step - loss: 0.2579 - binary_accuracy: 0.9300 - val_loss: 0.3278 - val_binary_accuracy: 0.8624\n",
      "Epoch 62/100\n",
      "4/4 [==============================] - 0s 21ms/step - loss: 0.2543 - binary_accuracy: 0.9300 - val_loss: 0.3248 - val_binary_accuracy: 0.8629\n",
      "Epoch 63/100\n",
      "4/4 [==============================] - 0s 21ms/step - loss: 0.2509 - binary_accuracy: 0.9300 - val_loss: 0.3209 - val_binary_accuracy: 0.8710\n",
      "Epoch 64/100\n",
      "4/4 [==============================] - 0s 22ms/step - loss: 0.2465 - binary_accuracy: 0.9300 - val_loss: 0.3179 - val_binary_accuracy: 0.8770\n",
      "Epoch 65/100\n",
      "4/4 [==============================] - 0s 21ms/step - loss: 0.2431 - binary_accuracy: 0.9300 - val_loss: 0.3152 - val_binary_accuracy: 0.8765\n",
      "Epoch 66/100\n",
      "4/4 [==============================] - 0s 21ms/step - loss: 0.2393 - binary_accuracy: 0.9300 - val_loss: 0.3119 - val_binary_accuracy: 0.8836\n",
      "Epoch 67/100\n",
      "4/4 [==============================] - 0s 22ms/step - loss: 0.2360 - binary_accuracy: 0.9300 - val_loss: 0.3086 - val_binary_accuracy: 0.8921\n",
      "Epoch 68/100\n",
      "4/4 [==============================] - 0s 21ms/step - loss: 0.2321 - binary_accuracy: 0.9300 - val_loss: 0.3055 - val_binary_accuracy: 0.8952\n",
      "Epoch 69/100\n",
      "4/4 [==============================] - 0s 21ms/step - loss: 0.2287 - binary_accuracy: 0.9300 - val_loss: 0.3029 - val_binary_accuracy: 0.9022\n",
      "Epoch 70/100\n",
      "4/4 [==============================] - 0s 23ms/step - loss: 0.2266 - binary_accuracy: 0.9400 - val_loss: 0.3016 - val_binary_accuracy: 0.9083\n",
      "Epoch 71/100\n",
      "4/4 [==============================] - 0s 23ms/step - loss: 0.2249 - binary_accuracy: 0.9300 - val_loss: 0.2998 - val_binary_accuracy: 0.9093\n",
      "Epoch 72/100\n",
      "4/4 [==============================] - 0s 23ms/step - loss: 0.2214 - binary_accuracy: 0.9300 - val_loss: 0.2962 - val_binary_accuracy: 0.9083\n",
      "Epoch 73/100\n",
      "4/4 [==============================] - 0s 22ms/step - loss: 0.2174 - binary_accuracy: 0.9400 - val_loss: 0.2927 - val_binary_accuracy: 0.9027\n",
      "Epoch 74/100\n",
      "4/4 [==============================] - 0s 21ms/step - loss: 0.2141 - binary_accuracy: 0.9400 - val_loss: 0.2903 - val_binary_accuracy: 0.9002\n",
      "Epoch 75/100\n",
      "4/4 [==============================] - 0s 23ms/step - loss: 0.2119 - binary_accuracy: 0.9300 - val_loss: 0.2885 - val_binary_accuracy: 0.8962\n",
      "Epoch 76/100\n",
      "4/4 [==============================] - 0s 23ms/step - loss: 0.2101 - binary_accuracy: 0.9300 - val_loss: 0.2871 - val_binary_accuracy: 0.8931\n",
      "Epoch 77/100\n",
      "4/4 [==============================] - 0s 21ms/step - loss: 0.2084 - binary_accuracy: 0.9300 - val_loss: 0.2847 - val_binary_accuracy: 0.8962\n",
      "Epoch 78/100\n",
      "4/4 [==============================] - 0s 22ms/step - loss: 0.2056 - binary_accuracy: 0.9300 - val_loss: 0.2816 - val_binary_accuracy: 0.9017\n",
      "Epoch 79/100\n",
      "4/4 [==============================] - 0s 23ms/step - loss: 0.2022 - binary_accuracy: 0.9400 - val_loss: 0.2797 - val_binary_accuracy: 0.9093\n",
      "Epoch 80/100\n",
      "4/4 [==============================] - 0s 22ms/step - loss: 0.2010 - binary_accuracy: 0.9300 - val_loss: 0.2785 - val_binary_accuracy: 0.9113\n",
      "Epoch 81/100\n",
      "4/4 [==============================] - 0s 22ms/step - loss: 0.1987 - binary_accuracy: 0.9300 - val_loss: 0.2767 - val_binary_accuracy: 0.9113\n",
      "Epoch 82/100\n",
      "4/4 [==============================] - 0s 23ms/step - loss: 0.1966 - binary_accuracy: 0.9300 - val_loss: 0.2749 - val_binary_accuracy: 0.9113\n",
      "Epoch 83/100\n",
      "4/4 [==============================] - 0s 21ms/step - loss: 0.1947 - binary_accuracy: 0.9300 - val_loss: 0.2741 - val_binary_accuracy: 0.9108\n",
      "Epoch 84/100\n",
      "4/4 [==============================] - 0s 20ms/step - loss: 0.1934 - binary_accuracy: 0.9300 - val_loss: 0.2739 - val_binary_accuracy: 0.9143\n",
      "Epoch 85/100\n",
      "4/4 [==============================] - 0s 21ms/step - loss: 0.1922 - binary_accuracy: 0.9400 - val_loss: 0.2730 - val_binary_accuracy: 0.9143\n",
      "Epoch 86/100\n",
      "4/4 [==============================] - 0s 23ms/step - loss: 0.1913 - binary_accuracy: 0.9400 - val_loss: 0.2715 - val_binary_accuracy: 0.9148\n",
      "Epoch 87/100\n",
      "4/4 [==============================] - 0s 21ms/step - loss: 0.1885 - binary_accuracy: 0.9300 - val_loss: 0.2670 - val_binary_accuracy: 0.9103\n",
      "Epoch 88/100\n",
      "4/4 [==============================] - 0s 22ms/step - loss: 0.1854 - binary_accuracy: 0.9300 - val_loss: 0.2650 - val_binary_accuracy: 0.9118\n",
      "Epoch 89/100\n",
      "4/4 [==============================] - 0s 23ms/step - loss: 0.1838 - binary_accuracy: 0.9300 - val_loss: 0.2635 - val_binary_accuracy: 0.9108\n",
      "Epoch 90/100\n",
      "4/4 [==============================] - 0s 23ms/step - loss: 0.1822 - binary_accuracy: 0.9300 - val_loss: 0.2625 - val_binary_accuracy: 0.9138\n",
      "Epoch 91/100\n",
      "4/4 [==============================] - 0s 22ms/step - loss: 0.1808 - binary_accuracy: 0.9300 - val_loss: 0.2619 - val_binary_accuracy: 0.9103\n",
      "Epoch 92/100\n",
      "4/4 [==============================] - 0s 22ms/step - loss: 0.1793 - binary_accuracy: 0.9300 - val_loss: 0.2605 - val_binary_accuracy: 0.9118\n",
      "Epoch 93/100\n",
      "4/4 [==============================] - 0s 21ms/step - loss: 0.1777 - binary_accuracy: 0.9300 - val_loss: 0.2591 - val_binary_accuracy: 0.9123\n",
      "Epoch 94/100\n",
      "4/4 [==============================] - 0s 21ms/step - loss: 0.1762 - binary_accuracy: 0.9300 - val_loss: 0.2583 - val_binary_accuracy: 0.9103\n",
      "Epoch 95/100\n",
      "4/4 [==============================] - 0s 23ms/step - loss: 0.1748 - binary_accuracy: 0.9300 - val_loss: 0.2568 - val_binary_accuracy: 0.9138\n",
      "Epoch 96/100\n",
      "4/4 [==============================] - 0s 21ms/step - loss: 0.1733 - binary_accuracy: 0.9300 - val_loss: 0.2552 - val_binary_accuracy: 0.9108\n",
      "Epoch 97/100\n",
      "4/4 [==============================] - 0s 22ms/step - loss: 0.1722 - binary_accuracy: 0.9300 - val_loss: 0.2543 - val_binary_accuracy: 0.9093\n",
      "Epoch 98/100\n",
      "4/4 [==============================] - 0s 22ms/step - loss: 0.1715 - binary_accuracy: 0.9300 - val_loss: 0.2532 - val_binary_accuracy: 0.9098\n",
      "Epoch 99/100\n",
      "4/4 [==============================] - 0s 21ms/step - loss: 0.1697 - binary_accuracy: 0.9300 - val_loss: 0.2525 - val_binary_accuracy: 0.9133\n",
      "Epoch 100/100\n",
      "4/4 [==============================] - 0s 21ms/step - loss: 0.1679 - binary_accuracy: 0.9300 - val_loss: 0.2531 - val_binary_accuracy: 0.9138\n"
     ]
    }
   ],
   "source": [
    "import tensorflow as tf\n",
    "\n",
    "test = (x_test, y_test)\n",
    "\n",
    "model = tf.keras.models.Sequential([\n",
    "  tf.keras.layers.Flatten(input_shape=(4, 4)),\n",
    "  tf.keras.layers.Dense(128, activation='relu'),\n",
    "  tf.keras.layers.Dense(1)\n",
    "])\n",
    "model.compile(\n",
    "    optimizer=tf.keras.optimizers.Adam(0.001),\n",
    "    loss=tf.keras.losses.BinaryCrossentropy(from_logits=True),\n",
    "    metrics=[tf.keras.metrics.BinaryAccuracy()],\n",
    ")\n",
    "\n",
    "History = model.fit(x_train, y_train, epochs=100,validation_data=test,\n",
    ")"
   ]
  },
  {
   "cell_type": "code",
   "execution_count": 7,
   "metadata": {},
   "outputs": [
    {
     "data": {
      "image/png": "[encoded data removed]",
      "text/plain": [
       "<Figure size 640x480 with 2 Axes>"
      ]
     },
     "metadata": {},
     "output_type": "display_data"
    }
   ],
   "source": [
    "loss = list(History.history.values())[0]\n",
    "acc = list(History.history.values())[1]\n",
    "val_loss = list(History.history.values())[2]\n",
    "val_acc = list(History.history.values())[3]\n",
    "\n",
    "# plt.plot(loss, label = 'Training Loss')\n",
    "# plt.plot(val_acc, label = 'Validation accuracy')\n",
    "# plt.ylabel('Loss')\n",
    "\n",
    "\n",
    "\n",
    "fig, ax1 = plt.subplots()\n",
    "\n",
    "color = 'tab:blue'\n",
    "ax1.set_xlabel('Epochs', fontsize = 16)\n",
    "ax1.set_ylabel('Loss', color=color, fontsize = 16)\n",
    "ax1.plot(loss, color=color, lw = 3)\n",
    "ax1.tick_params(axis='y', labelcolor=color)\n",
    "\n",
    "ax2 = ax1.twinx()  # instantiate a second Axes that shares the same x-axis\n",
    "\n",
    "color = 'tab:orange'\n",
    "ax2.set_ylabel('Validation accuracy', color=color, fontsize = 16)  # we already handled the x-label with ax1\n",
    "ax2.plot(val_acc, color=color, lw = 3)\n",
    "ax2.tick_params(axis='y', labelcolor=color)\n",
    "\n",
    "fig.tight_layout()  # otherwise the right y-label is slightly clipped\n",
    "# plt.savefig('figs/loss_NN.png')\n",
    "\n"
   ]
  },
  {
   "cell_type": "code",
   "execution_count": null,
   "metadata": {},
   "outputs": [],
   "source": [
    "model.summary()"
   ]
  },
  {
   "cell_type": "code",
   "execution_count": null,
   "metadata": {},
   "outputs": [],
   "source": [
    "# Visualize weights matrix\n",
    "\n",
    "plt.imshow(np.expand_dims(model.weights[0], axis = -1), cmap='plasma', interpolation='none')\n",
    "plt.xticks([], [])\n",
    "plt.yticks([], [])\n",
    "plt.savefig('weights1.png')"
   ]
  },
  {
   "cell_type": "code",
   "execution_count": null,
   "metadata": {},
   "outputs": [],
   "source": [
    "w = np.array(model.weights[0])\n",
    "\n",
    "w.shape"
   ]
  },
  {
   "cell_type": "markdown",
   "metadata": {},
   "source": [
    "# "
   ]
  },
  {
   "cell_type": "code",
   "execution_count": null,
   "metadata": {},
   "outputs": [],
   "source": [
    "u, s, vh = np.linalg.svd(w, full_matrices = False)\n",
    "\n",
    "x = np.arange(len(s))\n",
    "\n",
    "plt.scatter(x, s, color = 'gray', edgecolors='k', s = 100)\n",
    "plt.ylabel('Singular Values', fontsize = 14)\n",
    "plt.xlabel('Diagonal entries', fontsize = 14)"
   ]
  },
  {
   "cell_type": "code",
   "execution_count": null,
   "metadata": {},
   "outputs": [],
   "source": [
    "# Truncating the singular value matrix while keeping the truncated W matrix the same shape as the initial W matrix\n",
    "\n",
    "k = 2\n",
    "\n",
    "u_tr = u[:, :k]\n",
    "s_tr = np.eye(len(s[:k])) * s[:k]\n",
    "vh_tr = vh[:k, :]\n",
    "\n",
    "w_tr = u_tr @ s_tr @ vh_tr\n",
    "\n",
    "w_tr.shape"
   ]
  },
  {
   "cell_type": "code",
   "execution_count": null,
   "metadata": {},
   "outputs": [],
   "source": [
    "w = np.array(model.weights[0])\n",
    "bias = model.layers[1].weights[1] \n",
    "loss_mpo_l = []\n",
    "acc_mpo_l = []\n",
    "for k in range (1,100):\n",
    "    u, s, vh = np.linalg.svd(w, full_matrices = False)\n",
    "    u_tr = u[:, :k]\n",
    "    s_tr = np.eye(len(s[:k])) * s[:k]\n",
    "    vh_tr = vh[:k, :]\n",
    "\n",
    "    w_tr = u_tr @ s_tr @ vh_tr\n",
    "\n",
    "    model.layers[1].set_weights([w_tr, bias]) \n",
    "    history_mpo = model.evaluate(x_test, y_test)\n",
    "    loss_mpo = history_mpo[0]\n",
    "    acc_mpo = history_mpo[1]\n",
    "    loss_mpo_l.append(loss_mpo)\n",
    "    acc_mpo_l.append(acc_mpo)"
   ]
  },
  {
   "cell_type": "code",
   "execution_count": null,
   "metadata": {},
   "outputs": [],
   "source": [
    "plt.plot(acc_mpo_l, lw = 3)\n",
    "plt.ylabel('Accuracy', fontsize = 14)\n",
    "plt.xlabel('Singular Values Kept', fontsize = 14)\n",
    "\n"
   ]
  },
  {
   "cell_type": "code",
   "execution_count": null,
   "metadata": {},
   "outputs": [],
   "source": [
    "# get the bias corresponding to the layer we want to put the weights in\n",
    "bias = model.layers[1].weights[1] \n",
    "\n",
    "print(w_tr)\n",
    "model.layers[1].set_weights([w_tr, bias])  \n",
    "print(model.weights[0])  \n"
   ]
  },
  {
   "cell_type": "code",
   "execution_count": null,
   "metadata": {},
   "outputs": [],
   "source": [
    "x = np.random.rand(500, 4, 4)\n",
    "\n",
    "output = model(x)"
   ]
  },
  {
   "cell_type": "code",
   "execution_count": null,
   "metadata": {},
   "outputs": [],
   "source": [
    "def mpo(w, d):\n",
    "\n",
    "    w_rsh = np.reshape(w, (2, 8, 4, 32))\n",
    "\n",
    "    w_rsh_p = np.transpose(w_rsh, (0, 2, 1, 3))\n",
    "\n",
    "\n",
    "    w_rsh_p_r = np.reshape(w_rsh_p, (8, 256))\n",
    "\n",
    "    u, s, vh = np.linalg.svd(w_rsh_p_r, full_matrices = False)\n",
    "\n",
    "    s_mat = np.eye(len(s[:])) * s\n",
    "\n",
    "    vh2 = np.reshape(vh, (8, 8, 32))\n",
    "\n",
    "    w_next = s_mat @ vh2\n",
    "\n",
    "    w_next2 = u @ w_next\n",
    "    \n",
    "\n",
    "    w_next2 = np.reshape(w_next2, (8, 2, 4, 4, 8))\n",
    "\n",
    "    w_next2 = np.transpose(w_next2, (0,1,3,2,4))\n",
    "\n",
    "    w_next2 = np.reshape(w_next2, (64, 32))\n",
    "\n",
    "    u, s, vh = np.linalg.svd(w_next2, full_matrices = False)\n",
    "\n",
    "    u = u[:, :d]\n",
    "    s_mat = np.eye(len(s[:d])) * s[:d]\n",
    "    vh = vh[:d, :]\n",
    "    \n",
    "\n",
    "    w_next = s_mat @ vh\n",
    "\n",
    "\n",
    "    w_next2 = u @ vh\n",
    "    \n",
    "    w_next2 = np.reshape(w_next2, (512, 4))\n",
    "\n",
    "    u, s, vh = np.linalg.svd(w_next2, full_matrices = False)\n",
    "\n",
    "    u = u[:, :d]\n",
    "    s_mat = np.eye(len(s[:d])) * s[:d]\n",
    "    vh = vh[:d, :]\n",
    "\n",
    "    \n",
    "    w_next = s_mat @ vh\n",
    "\n",
    "\n",
    "    w_next2 = u @ vh\n",
    "    \n",
    "    \n",
    "    w_final = np.reshape(w_next2, (8, 64, 2, 2))\n",
    "\n",
    "    w_final = np.transpose(w_final, (0, 2, 1, 3))\n",
    "\n",
    "    w_final = np.reshape(w_final, (16, 128))\n",
    "\n",
    "    return w_final\n",
    "    \n",
    "    \n"
   ]
  },
  {
   "cell_type": "code",
   "execution_count": null,
   "metadata": {},
   "outputs": [],
   "source": [
    "def mpo2(w, d):\n",
    "\n",
    "    w_rsh = np.reshape(w, (2, 8, 4, 32))\n",
    "\n",
    "    w_rsh_p = np.transpose(w_rsh, (0, 2, 1, 3))\n",
    "\n",
    "\n",
    "    w_rsh_p_r = np.reshape(w_rsh_p, (8, 256))\n",
    "\n",
    "    u, s, vh = np.linalg.svd(w_rsh_p_r, full_matrices = False)\n",
    "\n",
    "    s_mat = np.eye(len(s[:])) * s\n",
    "\n",
    "    vh2 = np.reshape(vh, (8, 8, 32))\n",
    "\n",
    "    w_next = s_mat @ vh2\n",
    "\n",
    "    w_next2 = u @ w_next\n",
    "    \n",
    "\n",
    "    w_next2 = np.reshape(w_next2, (8, 2, 4, 4, 8))\n",
    "\n",
    "    w_next2 = np.transpose(w_next2, (0,1,3,2,4))\n",
    "\n",
    "    w_next2 = np.reshape(w_next2, (64, 32))\n",
    "\n",
    "    u, s, vh = np.linalg.svd(w_next2, full_matrices = False)\n",
    "\n",
    "    u = u[:, :d]\n",
    "    s_mat = np.eye(len(s[:d])) * s[:d]\n",
    "    vh = vh[:d, :]\n",
    "    \n",
    "\n",
    "    w_next = s_mat @ vh\n",
    "\n",
    "\n",
    "    w_next2 = u @ vh\n",
    "    \n",
    "    w_next2 = np.reshape(w_next2, (512, 4))\n",
    "\n",
    "    u, s, vh = np.linalg.svd(w_next2, full_matrices = False)\n",
    "\n",
    "    u = u[:, :d]\n",
    "    s_mat = np.eye(len(s[:d])) * s[:d]\n",
    "    vh = vh[:d, :]\n",
    "\n",
    "    \n",
    "    w_next = s_mat @ vh\n",
    "\n",
    "\n",
    "    w_next2 = u @ vh\n",
    "    \n",
    "    \n",
    "    w_final = np.reshape(w_next2, (8, 64, 2, 2))\n",
    "\n",
    "    # w_final = np.transpose(w_final, (0, 2, 1, 3))\n",
    "\n",
    "    # w_final = np.reshape(w_final, (16, 128))\n",
    "\n",
    "    w_final = np.transpose(w_final, (0, 2, 4, 6, 1, 3, 5, 7))\n",
    "\n",
    "    w_final = np.reshape(16, 128)\n",
    "\n",
    "    return w_final\n",
    "    \n",
    "    \n",
    "w_f = mpo2(w, 4)"
   ]
  },
  {
   "cell_type": "code",
   "execution_count": null,
   "metadata": {},
   "outputs": [],
   "source": [
    "# get the bias corresponding to the layer we want to put the weights in\n",
    "bias = model.layers[1].weights[1] \n",
    "\n"
   ]
  },
  {
   "cell_type": "code",
   "execution_count": null,
   "metadata": {},
   "outputs": [],
   "source": [
    "History = model.evaluate(x_test, y_test)"
   ]
  },
  {
   "cell_type": "code",
   "execution_count": null,
   "metadata": {},
   "outputs": [],
   "source": [
    "loss_mpo = History[0]\n",
    "acc_mpo = History[1]\n",
    "\n"
   ]
  },
  {
   "cell_type": "code",
   "execution_count": null,
   "metadata": {},
   "outputs": [],
   "source": [
    "loss_mpo_l = []\n",
    "acc_mpo_l = []\n",
    "\n",
    "for d in range(2, 100):\n",
    "    w_f = mpo2(w, d)\n",
    "    model.layers[1].set_weights([w_f, bias]) \n",
    "    history_mpo = model.evaluate(x_test, y_test)\n",
    "    loss_mpo = history_mpo[0]\n",
    "    acc_mpo = history_mpo[1]\n",
    "    loss_mpo_l.append(loss_mpo)\n",
    "    acc_mpo_l.append(acc_mpo)\n",
    "\n",
    "    "
   ]
  },
  {
   "cell_type": "code",
   "execution_count": null,
   "metadata": {},
   "outputs": [],
   "source": [
    "plt.plot(acc_mpo_l)"
   ]
  }
 ],
 "metadata": {
  "kernelspec": {
   "display_name": "Python 3",
   "language": "python",
   "name": "python3"
  },
  "language_info": {
   "codemirror_mode": {
    "name": "ipython",
    "version": 3
   },
   "file_extension": ".py",
   "mimetype": "text/x-python",
   "name": "python",
   "nbconvert_exporter": "python",
   "pygments_lexer": "ipython3",
   "version": "3.8.10"
  }
 },
 "nbformat": 4,
 "nbformat_minor": 2
}
